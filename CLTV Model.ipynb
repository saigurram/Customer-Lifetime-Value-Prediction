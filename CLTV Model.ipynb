{
 "cells": [
  {
   "cell_type": "markdown",
   "metadata": {},
   "source": [
    "# Customer Lifetime Value Prediction "
   ]
  },
  {
   "cell_type": "code",
   "execution_count": null,
   "metadata": {},
   "outputs": [],
   "source": [
    "git clone https://github.com/saigurram/Marketing_CLTV.git"
   ]
  },
  {
   "cell_type": "markdown",
   "metadata": {},
   "source": [
    "## Define "
   ]
  },
  {
   "cell_type": "markdown",
   "metadata": {},
   "source": [
    "Predicting the revenue and customer lifetime value is crucial for any organization not only from Sales Perspective \n",
    "but also for supply chain and marketing. Marketing can use these values to optimize the ad spend and supply chain for anticipating future demand. "
   ]
  },
  {
   "cell_type": "markdown",
   "metadata": {},
   "source": [
    "Brazillian ecommerce dataset consists of ecommerce data at product/seller level along with few marketing metrics. \n",
    "After careful analysis, the marketing metrics had a lot of missing data and therefore haven't been used in this analysis. \n",
    "The customer and seller information consists various states/cities. For easier analysis, the metrics haven't been used. "
   ]
  },
  {
   "cell_type": "markdown",
   "metadata": {},
   "source": [
    "Objective:\n",
    "    \n",
    "Understand how new vs existing customers are growing and what are their revenue contributions. \n",
    "Predict the Revenue at transaction level and combine it with their customers. \n",
    "\n"
   ]
  },
  {
   "cell_type": "code",
   "execution_count": 109,
   "metadata": {},
   "outputs": [],
   "source": [
    "# Import Libraries\n",
    "import pandas as pd\n",
    "import numpy as np \n",
    "import seaborn as sns \n",
    "import matplotlib.pyplot as plt\n",
    "%matplotlib inline \n",
    "import chart_studio.plotly as py\n",
    "import plotly.offline as pyoff\n",
    "import plotly.graph_objs as go\n",
    "from kmodes import kmodes\n",
    "import xgboost as xgb\n",
    "from sklearn import metrics\n",
    "from sklearn.model_selection import GridSearchCV\n",
    "from sklearn.metrics import accuracy_score\n",
    "from sklearn.model_selection import train_test_split\n",
    "\n",
    "from sklearn.tree import DecisionTreeRegressor\n",
    "\n",
    "import warnings\n",
    "warnings.filterwarnings('ignore')\n",
    "\n",
    "__author__ = \"Sai Jyothi Gurram\"\n",
    "__email__ = \"jyothisai1993@gmail.com\""
   ]
  },
  {
   "cell_type": "markdown",
   "metadata": {},
   "source": [
    "# DISCOVER"
   ]
  },
  {
   "cell_type": "markdown",
   "metadata": {},
   "source": [
    "### ----2  Load the data ----"
   ]
  },
  {
   "cell_type": "code",
   "execution_count": 2,
   "metadata": {},
   "outputs": [],
   "source": [
    "product = pd.read_csv('olist_products_dataset.csv')"
   ]
  },
  {
   "cell_type": "code",
   "execution_count": 3,
   "metadata": {},
   "outputs": [],
   "source": [
    "product_translation = pd.read_csv('product_category_name_translation.csv')"
   ]
  },
  {
   "cell_type": "code",
   "execution_count": 4,
   "metadata": {},
   "outputs": [],
   "source": [
    "orders = pd.read_csv('olist_orders_dataset.csv')"
   ]
  },
  {
   "cell_type": "code",
   "execution_count": 5,
   "metadata": {},
   "outputs": [],
   "source": [
    "order_payments = pd.read_csv('olist_order_payments_dataset.csv')"
   ]
  },
  {
   "cell_type": "code",
   "execution_count": 6,
   "metadata": {},
   "outputs": [],
   "source": [
    "customer = pd.read_csv('olist_customers_dataset.csv')"
   ]
  },
  {
   "cell_type": "code",
   "execution_count": 7,
   "metadata": {},
   "outputs": [],
   "source": [
    "order_items = pd.read_csv('olist_order_items_dataset.csv')"
   ]
  },
  {
   "cell_type": "code",
   "execution_count": 8,
   "metadata": {},
   "outputs": [],
   "source": [
    "#merge product with product category translation \n",
    "product = product[['product_id','product_category_name']]\n",
    "product_cat = product.merge(product_translation,on ='product_category_name',how = 'left')\n",
    "product_cat.drop(['product_category_name'],axis = 1, inplace = True)"
   ]
  },
  {
   "cell_type": "code",
   "execution_count": 9,
   "metadata": {},
   "outputs": [
    {
     "data": {
      "text/plain": [
       "(32951, 2)"
      ]
     },
     "execution_count": 9,
     "metadata": {},
     "output_type": "execute_result"
    }
   ],
   "source": [
    "#checking the shape of combined dataframe\n",
    "product_cat.shape"
   ]
  },
  {
   "cell_type": "code",
   "execution_count": 10,
   "metadata": {},
   "outputs": [],
   "source": [
    "#merging order_items with product_cat \n",
    "closed_order_items = order_items.merge(product_cat,on ='product_id',how = 'left')"
   ]
  },
  {
   "cell_type": "code",
   "execution_count": 11,
   "metadata": {},
   "outputs": [
    {
     "data": {
      "text/plain": [
       "(112650, 8)"
      ]
     },
     "execution_count": 11,
     "metadata": {},
     "output_type": "execute_result"
    }
   ],
   "source": [
    "#checking the shape of combined dataframe\n",
    "closed_order_items.shape"
   ]
  },
  {
   "cell_type": "code",
   "execution_count": 12,
   "metadata": {},
   "outputs": [],
   "source": [
    "#orders\n",
    "orders = orders[['order_id','customer_id','order_purchase_timestamp']]\n",
    "orders = orders.set_index('customer_id')\n",
    "orders.drop_duplicates(inplace=True)"
   ]
  },
  {
   "cell_type": "code",
   "execution_count": 13,
   "metadata": {},
   "outputs": [],
   "source": [
    "#customer\n",
    "customer = customer[['customer_id', 'customer_unique_id']]\n",
    "customer = customer.set_index('customer_id')"
   ]
  },
  {
   "cell_type": "code",
   "execution_count": 14,
   "metadata": {},
   "outputs": [],
   "source": [
    "#combining customer with orders \n",
    "order_customer = pd.concat([orders,customer], axis=1, join='inner')\n",
    "order_customer.reset_index(inplace=True)"
   ]
  },
  {
   "cell_type": "code",
   "execution_count": 15,
   "metadata": {},
   "outputs": [
    {
     "data": {
      "text/plain": [
       "(99441, 4)"
      ]
     },
     "execution_count": 15,
     "metadata": {},
     "output_type": "execute_result"
    }
   ],
   "source": [
    "#checking the shape of combined dataframe\n",
    "order_customer.shape"
   ]
  },
  {
   "cell_type": "code",
   "execution_count": 16,
   "metadata": {},
   "outputs": [],
   "source": [
    "#merging closed_order_items with orders\n",
    "merged = closed_order_items.merge(order_customer,on ='order_id',how = 'left')"
   ]
  },
  {
   "cell_type": "code",
   "execution_count": 17,
   "metadata": {},
   "outputs": [
    {
     "data": {
      "text/plain": [
       "(112650, 11)"
      ]
     },
     "execution_count": 17,
     "metadata": {},
     "output_type": "execute_result"
    }
   ],
   "source": [
    "#checking the shape of combined dataframe\n",
    "merged.shape"
   ]
  },
  {
   "cell_type": "markdown",
   "metadata": {},
   "source": [
    "### ----3  Clean the data ----"
   ]
  },
  {
   "cell_type": "code",
   "execution_count": 18,
   "metadata": {},
   "outputs": [],
   "source": [
    "#converting all dates into datetimes\n",
    "\n",
    "\n",
    "merged['shipping_limit_date'] = pd.to_datetime(merged['shipping_limit_date'])\n",
    "merged['order_purchase_timestamp'] = pd.to_datetime(merged['order_purchase_timestamp'])\n",
    "\n"
   ]
  },
  {
   "cell_type": "code",
   "execution_count": 19,
   "metadata": {},
   "outputs": [
    {
     "name": "stdout",
     "output_type": "stream",
     "text": [
      "Number of duplicated records in training set:  0\n"
     ]
    }
   ],
   "source": [
    "#As our target column is revenue checking for duplicates \n",
    "print(\"Number of duplicated records in training set: \", merged.duplicated().sum())"
   ]
  },
  {
   "cell_type": "code",
   "execution_count": 20,
   "metadata": {},
   "outputs": [
    {
     "data": {
      "text/plain": [
       "order_id                                 object\n",
       "order_item_id                             int64\n",
       "product_id                               object\n",
       "seller_id                                object\n",
       "shipping_limit_date              datetime64[ns]\n",
       "price                                   float64\n",
       "freight_value                           float64\n",
       "product_category_name_english            object\n",
       "customer_id                              object\n",
       "order_purchase_timestamp         datetime64[ns]\n",
       "customer_unique_id                       object\n",
       "dtype: object"
      ]
     },
     "execution_count": 20,
     "metadata": {},
     "output_type": "execute_result"
    }
   ],
   "source": [
    "#checking the datatypes \n",
    "merged.dtypes"
   ]
  },
  {
   "cell_type": "code",
   "execution_count": 21,
   "metadata": {},
   "outputs": [
    {
     "data": {
      "text/plain": [
       "order_id                         False\n",
       "order_item_id                    False\n",
       "product_id                       False\n",
       "seller_id                        False\n",
       "shipping_limit_date              False\n",
       "price                            False\n",
       "freight_value                    False\n",
       "product_category_name_english     True\n",
       "customer_id                      False\n",
       "order_purchase_timestamp         False\n",
       "customer_unique_id               False\n",
       "dtype: bool"
      ]
     },
     "execution_count": 21,
     "metadata": {},
     "output_type": "execute_result"
    }
   ],
   "source": [
    "#checking for null values\n",
    "merged.isnull().any()"
   ]
  },
  {
   "cell_type": "code",
   "execution_count": 22,
   "metadata": {},
   "outputs": [
    {
     "name": "stdout",
     "output_type": "stream",
     "text": [
      "<class 'pandas.core.frame.DataFrame'>\n",
      "Int64Index: 112650 entries, 0 to 112649\n",
      "Data columns (total 11 columns):\n",
      "order_id                         112650 non-null object\n",
      "order_item_id                    112650 non-null int64\n",
      "product_id                       112650 non-null object\n",
      "seller_id                        112650 non-null object\n",
      "shipping_limit_date              112650 non-null datetime64[ns]\n",
      "price                            112650 non-null float64\n",
      "freight_value                    112650 non-null float64\n",
      "product_category_name_english    111023 non-null object\n",
      "customer_id                      112650 non-null object\n",
      "order_purchase_timestamp         112650 non-null datetime64[ns]\n",
      "customer_unique_id               112650 non-null object\n",
      "dtypes: datetime64[ns](2), float64(2), int64(1), object(6)\n",
      "memory usage: 10.3+ MB\n"
     ]
    }
   ],
   "source": [
    "#checking the count of null values\n",
    "merged.info()"
   ]
  },
  {
   "cell_type": "code",
   "execution_count": 23,
   "metadata": {},
   "outputs": [],
   "source": [
    "#replacing null values with other\n",
    "merged['product_category_name_english'] = merged['product_category_name_english'].fillna('Other') \n",
    "\n"
   ]
  },
  {
   "cell_type": "code",
   "execution_count": 24,
   "metadata": {},
   "outputs": [],
   "source": [
    "#dropping unnecessary columns\n",
    "merged.drop(['seller_id','shipping_limit_date','product_id'],axis = 1, inplace = True)"
   ]
  },
  {
   "cell_type": "code",
   "execution_count": 25,
   "metadata": {},
   "outputs": [],
   "source": [
    "#creating the target revenue column \n",
    "merged['Revenue'] = merged['price']+merged['freight_value']"
   ]
  },
  {
   "cell_type": "code",
   "execution_count": 26,
   "metadata": {},
   "outputs": [],
   "source": [
    "#dropping columns\n",
    "merged.drop(['price','freight_value'],axis = 1, inplace = True)"
   ]
  },
  {
   "cell_type": "markdown",
   "metadata": {},
   "source": [
    "### ----4 Explore the data ----"
   ]
  },
  {
   "cell_type": "code",
   "execution_count": 27,
   "metadata": {},
   "outputs": [
    {
     "data": {
      "text/plain": [
       "(112650, 7)"
      ]
     },
     "execution_count": 27,
     "metadata": {},
     "output_type": "execute_result"
    }
   ],
   "source": [
    "#EDA \n",
    "#the number of orders in the datset\n",
    "\n",
    "merged.shape\n",
    "\n",
    "#there are 112650 orders"
   ]
  },
  {
   "cell_type": "code",
   "execution_count": 28,
   "metadata": {},
   "outputs": [
    {
     "name": "stdout",
     "output_type": "stream",
     "text": [
      "total Revenue = 15843553.24\n"
     ]
    }
   ],
   "source": [
    "#total Revenue \n",
    "print (\"total Revenue = %2.2f\" % merged['Revenue'].sum())"
   ]
  },
  {
   "cell_type": "code",
   "execution_count": 29,
   "metadata": {},
   "outputs": [
    {
     "data": {
      "text/plain": [
       "count                  112650\n",
       "unique                  98112\n",
       "top       2017-07-16 18:19:25\n",
       "freq                       21\n",
       "first     2016-09-04 21:15:19\n",
       "last      2018-09-03 09:06:57\n",
       "Name: order_purchase_timestamp, dtype: object"
      ]
     },
     "execution_count": 29,
     "metadata": {},
     "output_type": "execute_result"
    }
   ],
   "source": [
    "#analyzing order_purchase date\n",
    "merged['order_purchase_timestamp'].describe()\n"
   ]
  },
  {
   "cell_type": "markdown",
   "metadata": {},
   "source": [
    "data here is for two years from September 2016 until September 2018"
   ]
  },
  {
   "cell_type": "code",
   "execution_count": 30,
   "metadata": {},
   "outputs": [],
   "source": [
    "#Creating a new column month to simplify the analysis\n",
    "merged['Month'] = merged['order_purchase_timestamp'].map(lambda date: 100*date.year + date.month)"
   ]
  },
  {
   "cell_type": "code",
   "execution_count": 31,
   "metadata": {},
   "outputs": [],
   "source": [
    "#Excluding 2016 September and 2018 September as data is incomplete\n",
    "merged = merged[merged['Month'] > 201609]\n",
    "merged = merged[merged['Month'] < 201809]"
   ]
  },
  {
   "cell_type": "code",
   "execution_count": 32,
   "metadata": {},
   "outputs": [
    {
     "data": {
      "text/plain": [
       "(112643, 8)"
      ]
     },
     "execution_count": 32,
     "metadata": {},
     "output_type": "execute_result"
    }
   ],
   "source": [
    "merged.shape"
   ]
  },
  {
   "cell_type": "code",
   "execution_count": 35,
   "metadata": {},
   "outputs": [
    {
     "data": {
      "text/plain": [
       "count    112643.000000\n",
       "mean        140.648172\n",
       "std         190.729357\n",
       "min           6.080000\n",
       "25%          55.225000\n",
       "50%          92.320000\n",
       "75%         157.940000\n",
       "max        6929.310000\n",
       "Name: Revenue, dtype: float64"
      ]
     },
     "execution_count": 35,
     "metadata": {},
     "output_type": "execute_result"
    }
   ],
   "source": [
    "#analyzing revenue \n",
    "merged['Revenue'].describe()"
   ]
  },
  {
   "cell_type": "markdown",
   "metadata": {},
   "source": [
    "Average revenue is 140 while the standard deviation is 190. "
   ]
  },
  {
   "cell_type": "code",
   "execution_count": 38,
   "metadata": {},
   "outputs": [
    {
     "data": {
      "text/plain": [
       "<matplotlib.axes._subplots.AxesSubplot at 0x26fbbfec9b0>"
      ]
     },
     "execution_count": 38,
     "metadata": {},
     "output_type": "execute_result"
    },
    {
     "data": {
      "image/png": "[encoded data removed]",
      "text/plain": [
       "<Figure size 432x288 with 1 Axes>"
      ]
     },
     "metadata": {},
     "output_type": "display_data"
    }
   ],
   "source": [
    "#Creating a boxplot for revenue \n",
    "sns.boxplot(x=merged[\"Revenue\"])"
   ]
  },
  {
   "cell_type": "code",
   "execution_count": 39,
   "metadata": {},
   "outputs": [
    {
     "name": "stdout",
     "output_type": "stream",
     "text": [
      "102.715\n"
     ]
    }
   ],
   "source": [
    "#checking the IQR\n",
    "Q1 = merged['Revenue'].quantile(0.25)\n",
    "Q3 = merged['Revenue'].quantile(0.75)\n",
    "IQR = Q3 - Q1\n",
    "print(IQR)"
   ]
  },
  {
   "cell_type": "code",
   "execution_count": 40,
   "metadata": {},
   "outputs": [
    {
     "name": "stdout",
     "output_type": "stream",
     "text": [
      "Less than 1.5 IQR Empty DataFrame\n",
      "Columns: [order_id, order_item_id, product_category_name_english, customer_id, order_purchase_timestamp, customer_unique_id, Revenue, Month]\n",
      "Index: []\n",
      "Greater than 1.5 IQR                                 order_id  order_item_id  \\\n",
      "1       00018f77f2f0320c557190d7a144bdd3              1   \n",
      "2       000229ec398224ef6ca0657da4fc703e              1   \n",
      "4       00042b26cf59d7ce69dfabb4e55b4fd9              1   \n",
      "7       000576fe39319847cbb9d288c5617fa6              1   \n",
      "16      0009c9a17f916a706d71784483a5d643              1   \n",
      "25      00119ff934e539cf26f92b9ef0cdfed8              1   \n",
      "26      0011d82c4b53e22e84023405fb467e57              1   \n",
      "30      00137e170939bba5a3134e2386413108              1   \n",
      "39      0017afd5076e074a48f1f1a4c7bac9c5              1   \n",
      "52      001e7ba991be1b19605ca0316e7130f9              1   \n",
      "61      0025c5d1a8ca53a240ec2634bb4492ea              1   \n",
      "65      00275bce676303c3bfd7292aefdfa223              1   \n",
      "70      0029c5db35ef291ce99d1262012e7daa              1   \n",
      "73      002b430ff89b3a24c31a1170acbbedea              1   \n",
      "78      002f16b7bc4530031b7d90f791b12d8a              1   \n",
      "83      0030ff924c38549807645976adeef2c0              1   \n",
      "93      003423b755b562962a6225a8de40d12e              1   \n",
      "99      0036887767dea4bd43b1a88cd0d9477a              1   \n",
      "107     003d0634280ff3d1d3a54459349a6899              1   \n",
      "108     003d804eef0e1b856881cd18e0cc0d4c              1   \n",
      "113     003f9bcc09427647c4b9d361a523545b              1   \n",
      "116     004157daafa0bc8672e01f00e4f0c04f              1   \n",
      "124     00471463a6106056c1a2a809f70de640              1   \n",
      "129     004ca5ae248069d68e8594df8abf6ce0              1   \n",
      "158     006127b8b9a1681a982313ed7129c3c0              1   \n",
      "159     0064d74f7de7917d54768d7722ad56ac              1   \n",
      "162     0066a1fdaee16ad5022c5ef979d0b661              1   \n",
      "164     0068468c453d28c8ef3fd089e50a5847              1   \n",
      "170     006c42f310102c1910b3c5793ce5fc34              1   \n",
      "177     006e91ddb0674525f84ce0da0655c7ba              1   \n",
      "...                                  ...            ...   \n",
      "112379  ff4cdf9a24ffba79c88c81aeb858b4c7              1   \n",
      "112381  ff4d755050a3a40c7cd03cbe7d11309c              1   \n",
      "112388  ff54b9c09ea01ff4a6998163e9822b79              1   \n",
      "112431  ff767a5901c39fba72b1b8eade30d691              1   \n",
      "112449  ff85c3e4329457e83cb474799a257ccc              1   \n",
      "112450  ff85f6534f8a6b89e27a340dcf86ecac              1   \n",
      "112472  ff96d596c25445650eee60b94fa62244              1   \n",
      "112481  ff9a99c60b18acf7c678d38e0549ca67              1   \n",
      "112489  ffa1dd97810de91a03abd7bd76d2fed1              1   \n",
      "112491  ffa2d919ed5fc1b6661b89904ef71b88              1   \n",
      "112509  ffabb8ed44ae4f83efd9d206904d88f5              1   \n",
      "112510  ffabb8ed44ae4f83efd9d206904d88f5              2   \n",
      "112517  ffb18bf111fa70edf316eb0390427986              1   \n",
      "112519  ffb18bf111fa70edf316eb0390427986              3   \n",
      "112536  ffb9a9cd00c74c11c24aa30b3d78e03b              4   \n",
      "112553  ffc2638415f3ce34e88641eef792c1fc              1   \n",
      "112557  ffc49b9c9d666410e9ecdb0a3efadb9c              1   \n",
      "112571  ffd5e80bfdaf69504efd7562a3d522dd              1   \n",
      "112573  ffd6f08f294bfa573e0eeb88d6afb17b              1   \n",
      "112583  ffdab5e1596138d37793566aa1424d0c              1   \n",
      "112586  ffdc5e3279114c523a09296f8fd28331              1   \n",
      "112592  ffde92ba447b33a47d1c04d203f10f41              1   \n",
      "112599  ffe3153dcf1c03911848f64ed557764b              1   \n",
      "112631  fff6b8ca971f8e3ec822e99d0f2d3d21              1   \n",
      "112632  fff7c4452f050315db1b3f24d9df5fcd              1   \n",
      "112634  fff8287bbae429a99bb7e8c21d151c41              1   \n",
      "112635  fff8287bbae429a99bb7e8c21d151c41              2   \n",
      "112637  fffa82886406ccf10c7b4e35c4ff2788              1   \n",
      "112645  fffc94f6ce00a00581880bf54a75a037              1   \n",
      "112646  fffcd46ef2263f404302a634eb57f7eb              1   \n",
      "\n",
      "       product_category_name_english                       customer_id  \\\n",
      "1                           pet_shop  f6dd3ec061db4e3987629fe6b26e5cce   \n",
      "2                    furniture_decor  6489ae5e4333f3693df5ad4372dab6d3   \n",
      "4                       garden_tools  58dbd0b2d70206bf40e62cd34e84d795   \n",
      "7                       garden_tools  9ed5e522dd9dd85b4af4a077526d8117   \n",
      "16                    consoles_games  8a250edc40ebc5c3940ebc940f16a7eb   \n",
      "25                    sports_leisure  7dd2e283f47deac853cf70f3b63c8d86   \n",
      "26               luggage_accessories  2013d892495e1a101d742d533d2d1119   \n",
      "30        agro_industry_and_commerce  7b63cba66b8e6d002e94d0990c1e2868   \n",
      "39             computers_accessories  8085a9af46f619bc25966f151a362b0d   \n",
      "52             computers_accessories  b6a1445ee505f3a95c827e7a5188ad02   \n",
      "61                    sports_leisure  2430ad4b1b6efb56cf3050b5d3cf5e54   \n",
      "65                         telephony  a12427487c970a4a75dbeb5884f126a8   \n",
      "70                     health_beauty  2f08bf21468eccdf69598582d4b89fb5   \n",
      "73                        cool_stuff  8d69dbf0f4dcb6c90367e0877ae94732   \n",
      "78                   furniture_decor  1eeffe21744883fbf61fbf138dbb8eee   \n",
      "83                              baby  c46e1af5a15417246a9c5e81ac964358   \n",
      "93                      garden_tools  18f1bb6325d50619d5c13b7a25b869fd   \n",
      "99                              toys  43bb6f9650ab2a7e6ef1c93168c4cfcf   \n",
      "107            computers_accessories  cca819156e50623e9d3762ebeee308dc   \n",
      "108                    watches_gifts  1c1bfb2cd4aa789067295941c42120ff   \n",
      "113                    watches_gifts  a1a6d4f18deef15fee3ad4b6f36a7ce0   \n",
      "116                  furniture_decor  42090a79268b92ced0c591a8e63d57c2   \n",
      "124                  furniture_decor  fcad74a7e0dff27c33e36cbd78280bf9   \n",
      "129                        perfumery  576908744ae56c9cf061c40a434e2a24   \n",
      "158                    watches_gifts  1aac2b5adf8aec2c00fe67d06aa8ebc2   \n",
      "159                       cool_stuff  29dbee0c474f373b72267a9e886522ee   \n",
      "162                             baby  f19b59fc51f101023eb15bfbcca65f31   \n",
      "164                      electronics  6460086b02eadee2bb54c83af13698b0   \n",
      "170                             toys  d63e92aea6fb367972e3cc4f232a1976   \n",
      "177                     home_confort  aab60551b0c17b5dd31690b0d1bf3911   \n",
      "...                              ...                               ...   \n",
      "112379               furniture_decor  671c88e6f743e984ae2f877fb66e1a1f   \n",
      "112381                sports_leisure  86f759cadfc423887480182ca9589e39   \n",
      "112388                 watches_gifts  61eb73b3aa56811b865abef59f7ef640   \n",
      "112431                    housewares  0029cdf064769cabdf3186b54d068c99   \n",
      "112449                    cool_stuff  bebdd0fa741d459ddb69cf8862bb641c   \n",
      "112450                    cool_stuff  599c3538fbec0c9e9c2c73b4d1694d30   \n",
      "112472                          baby  8e2558cb3ad7b7a9d7ba47481b78fa64   \n",
      "112481                     telephony  3e5790883654df1ddd1c1b29541206fe   \n",
      "112489                     telephony  f37c2634dfc8ac0ce3475d3cfc665b43   \n",
      "112491                sports_leisure  8c33b5139e4f68d40b1e97f12fd40d5b   \n",
      "112509                bed_bath_table  96789cb4ceff0012efe52f4faf4a2d2e   \n",
      "112510                bed_bath_table  96789cb4ceff0012efe52f4faf4a2d2e   \n",
      "112517         computers_accessories  5c8f393ae866c2a2d2e775dbc2409a59   \n",
      "112519         computers_accessories  5c8f393ae866c2a2d2e775dbc2409a59   \n",
      "112536                bed_bath_table  81a0150b8f472d0e5e82a7da198b93bc   \n",
      "112553                    cool_stuff  cfd66b47b20e40dc4aef3c309508604e   \n",
      "112557                 health_beauty  e175dcb4b025365a33467693abf7b4ca   \n",
      "112571                sports_leisure  467bcdf6e97d661f3947ad9308dcb0cc   \n",
      "112573         computers_accessories  8ef6dd55cbf50f4b0aac10b13beb920f   \n",
      "112583           musical_instruments  58f5f08f888dddeeb13e21d686545c6d   \n",
      "112586         computers_accessories  c1268d9379bcbdb861e57fa5ca4b2107   \n",
      "112592                    housewares  502b5f99cc5ae83a33d23ec900e76a3d   \n",
      "112599                          auto  9e73c9ebfd2c3c58898f89e7d0409ea4   \n",
      "112631                     telephony  2aec499f94f5e82786629a84b816ffb9   \n",
      "112632                 watches_gifts  dec8952e97ef6124259c56914fb3569c   \n",
      "112634         computers_accessories  6c1e92a209dbf868706caa831090941e   \n",
      "112635         computers_accessories  6c1e92a209dbf868706caa831090941e   \n",
      "112637                sports_leisure  a5201e1a6d71a8d21e869151bd5b4085   \n",
      "112645                    housewares  b51593916b4b8e0d6f66f2ae24f2673d   \n",
      "112646         computers_accessories  84c5d4fbaf120aae381fad077416eaa0   \n",
      "\n",
      "       order_purchase_timestamp                customer_unique_id  Revenue  \\\n",
      "1           2017-04-26 10:53:06  eb28e67c4c0b83846050ddfb8a35d051   259.83   \n",
      "2           2018-01-14 14:33:31  3818d81c6709e39d06b2738a8d3a2474   216.87   \n",
      "4           2017-02-04 13:57:51  64b576fb70d441e8f1b2d7d446e483c5   218.04   \n",
      "7           2018-07-04 12:08:27  fda4476abb6307ab3c415b7e6d026526   880.75   \n",
      "16          2018-04-25 09:10:41  6062db572f3ef38b7a8ff4307abbfad3   650.34   \n",
      "25          2017-08-06 00:42:49  13df7b623839b4edc579ee40279d57c8   236.88   \n",
      "26          2018-01-16 21:43:23  02daaa0e021d624d1784c4ea5cc84ace   315.33   \n",
      "30          2017-11-24 16:50:38  38c3bc2d6df03905e3e8d3d5b079acf4   421.65   \n",
      "39          2017-04-06 22:16:10  98758d88bf4b8eef1372ddee45d63178   853.39   \n",
      "52          2017-03-18 11:47:37  100bf2da12cc1fd1b556507aa87bf3a1   213.21   \n",
      "61          2018-07-08 09:17:59  fa78b26c2fa23b2ebda98c2926305c1d   419.39   \n",
      "65          2017-11-24 23:10:30  c5e94cf711798a7bdde48952d2b3ee28   293.36   \n",
      "70          2018-08-25 00:09:40  b31e69e978d97f380d52102ac379fd7e   514.37   \n",
      "73          2017-06-20 21:55:21  b1f8d8ebab0d8174f573bb6797ba8240   265.55   \n",
      "78          2018-07-02 16:51:47  eb859d4b5ab54b643d2c0cedaca0c9fb   284.13   \n",
      "83          2018-03-25 16:52:27  da9fe686eb368251f74be6cf68c13678   292.24   \n",
      "93          2018-07-08 11:28:17  7e765e16bdd8cf6bb0dc7728e1294636   261.33   \n",
      "99          2017-10-13 00:04:49  6d151e185615942c0bc8cd9373471ad1   423.63   \n",
      "107         2018-03-17 17:50:30  2fe9477037604b2d6f60ffc998eb0812   228.89   \n",
      "108         2017-11-17 19:43:10  3f7fe16073dbdd44c23f327bab3def2c   312.74   \n",
      "113         2018-02-06 13:06:45  1c83b776b851b057dcc32bb2fa5edbdd   238.80   \n",
      "116         2017-05-21 13:13:54  e7aa5a5869f3e9d7d04fd3aa5f90631f   222.91   \n",
      "124         2017-09-21 22:00:44  1e57acebf9849b1d7af7c21c14c1b99f   265.96   \n",
      "129         2018-06-06 18:30:20  7af7a47d87d53e6db00e70790bba0370   221.08   \n",
      "158         2018-03-08 16:01:59  96fab6e511253d619ab79a63c31b29c4   556.22   \n",
      "159         2017-09-10 21:45:29  f793d2815c27a46dafc9c92a1c960103   221.07   \n",
      "162         2018-06-10 19:52:27  08b76bd6862f5b38fafcb80a4eac3bee   226.28   \n",
      "164         2017-11-24 22:25:25  051be26c01eaee2404f19132b80da15f   489.85   \n",
      "170         2018-08-06 16:12:32  fca073b957482b8bb92de22e5e9c80d6   250.79   \n",
      "177         2018-04-10 19:17:15  42572eaafadc787ce69afad9af65a7b7   529.35   \n",
      "...                         ...                               ...      ...   \n",
      "112379      2017-08-09 22:53:33  fe799f0683e5d6262a69c448df99cbb9   303.86   \n",
      "112381      2018-03-10 01:46:47  455c17b35969ca198c17f2fc9e8eba1b   257.95   \n",
      "112388      2018-05-29 21:46:07  2cf1b13d236cbffe7a3e1857136982b1   519.37   \n",
      "112431      2018-02-04 12:22:30  74c286ab8cc161142213780711964b06   483.70   \n",
      "112449      2018-01-17 14:02:36  b7ea44d55e6a749aece828fa7192e9fb   916.50   \n",
      "112450      2018-05-02 15:56:29  956eadf2280a25c360ccfc7b42b21313   344.51   \n",
      "112472      2018-04-27 14:01:01  277a7a33e3cbe4eb57c740cf4195d816   456.55   \n",
      "112481      2017-09-15 23:25:39  c0d28277e2af8dc526aa021d086ebaf3   293.46   \n",
      "112489      2017-05-22 22:35:09  26cbea974bc958bc0192ab80777f3a06   455.31   \n",
      "112491      2018-04-19 14:42:19  e63e016401c9d760ab2a6feedff71fc2   270.47   \n",
      "112509      2017-08-08 20:01:10  931a169d1e15a0d9cb3dc049e5428d58   231.27   \n",
      "112510      2017-08-08 20:01:10  931a169d1e15a0d9cb3dc049e5428d58   231.27   \n",
      "112517      2017-11-27 13:29:05  d87ea5e1e23e42953de9a2e6aa31c80e   254.30   \n",
      "112519      2017-11-27 13:29:05  d87ea5e1e23e42953de9a2e6aa31c80e   254.30   \n",
      "112536      2017-03-11 17:20:21  d10fb5de0a3fed8a598aa7fd3aa1be14   242.08   \n",
      "112553      2017-06-06 12:34:53  7749b5780ccccf606ce2881db5fdc97e   696.08   \n",
      "112557      2018-05-28 19:29:49  974fcb536095266b0620344239af2d66   792.06   \n",
      "112571      2017-08-22 09:29:59  0968690d0565e9870ff423120a1051e8   601.55   \n",
      "112573      2017-11-21 13:33:24  7f1f619e844c6d2a4c0ac8fb0eaf9c10   366.80   \n",
      "112583      2017-05-02 07:26:40  d7173ad3f94725a395d32d6dfe691689   418.35   \n",
      "112586      2017-02-10 14:49:23  b4a9efda098bbefeff0c5036cf915eb9   317.79   \n",
      "112592      2017-11-24 12:12:36  4bfdc85625e24bc269329cd2ca2bb30c   304.70   \n",
      "112599      2017-04-10 18:36:47  21b5bd1b2c31a2baf0f6f49f3d35ae5c   287.21   \n",
      "112631      2017-09-15 11:44:46  c71a196d46a70ec611f3922db5755d1d   215.83   \n",
      "112632      2017-06-01 16:53:03  c86ab5ff2bac777c4e770a383feca4eb   756.91   \n",
      "112634      2018-03-17 12:11:45  028c09f007292c4e3a3b10d296e47987   228.14   \n",
      "112635      2018-03-17 12:11:45  028c09f007292c4e3a3b10d296e47987   228.14   \n",
      "112637      2017-12-18 16:33:07  2a3ab9bf9639491997586882c502540a   273.92   \n",
      "112645      2018-04-23 13:57:06  0c9aeda10a71f369396d0c04dce13a64   343.40   \n",
      "112646      2018-07-14 10:26:46  0da9fe112eae0c74d3ba1fe16de0988b   386.53   \n",
      "\n",
      "         Month  \n",
      "1       201704  \n",
      "2       201801  \n",
      "4       201702  \n",
      "7       201807  \n",
      "16      201804  \n",
      "25      201708  \n",
      "26      201801  \n",
      "30      201711  \n",
      "39      201704  \n",
      "52      201703  \n",
      "61      201807  \n",
      "65      201711  \n",
      "70      201808  \n",
      "73      201706  \n",
      "78      201807  \n",
      "83      201803  \n",
      "93      201807  \n",
      "99      201710  \n",
      "107     201803  \n",
      "108     201711  \n",
      "113     201802  \n",
      "116     201705  \n",
      "124     201709  \n",
      "129     201806  \n",
      "158     201803  \n",
      "159     201709  \n",
      "162     201806  \n",
      "164     201711  \n",
      "170     201808  \n",
      "177     201804  \n",
      "...        ...  \n",
      "112379  201708  \n",
      "112381  201803  \n",
      "112388  201805  \n",
      "112431  201802  \n",
      "112449  201801  \n",
      "112450  201805  \n",
      "112472  201804  \n",
      "112481  201709  \n",
      "112489  201705  \n",
      "112491  201804  \n",
      "112509  201708  \n",
      "112510  201708  \n",
      "112517  201711  \n",
      "112519  201711  \n",
      "112536  201703  \n",
      "112553  201706  \n",
      "112557  201805  \n",
      "112571  201708  \n",
      "112573  201711  \n",
      "112583  201705  \n",
      "112586  201702  \n",
      "112592  201711  \n",
      "112599  201704  \n",
      "112631  201709  \n",
      "112632  201706  \n",
      "112634  201803  \n",
      "112635  201803  \n",
      "112637  201712  \n",
      "112645  201804  \n",
      "112646  201807  \n",
      "\n",
      "[16674 rows x 8 columns]\n"
     ]
    }
   ],
   "source": [
    "#checking the data within 1.5*times IQR\n",
    "print(\"Less than 1.5 IQR\",merged[merged['Revenue'] < (Q1 - 1.5 * IQR)])\n",
    "print(\"Greater than 1.5 IQR\",merged[merged['Revenue'] > (Q1 + 1.5 * IQR)])"
   ]
  },
  {
   "cell_type": "markdown",
   "metadata": {},
   "source": [
    "There are 16674 rows that are not in 1.5*IQR range"
   ]
  },
  {
   "cell_type": "code",
   "execution_count": 41,
   "metadata": {},
   "outputs": [
    {
     "data": {
      "text/plain": [
       "(95969, 9)"
      ]
     },
     "execution_count": 41,
     "metadata": {},
     "output_type": "execute_result"
    }
   ],
   "source": [
    "#Removing outliers \n",
    "merged = merged[merged['Revenue'] < (Q1 + 1.5 * IQR)]\n",
    "merged = merged.reset_index()\n",
    "merged.shape"
   ]
  },
  {
   "cell_type": "code",
   "execution_count": 110,
   "metadata": {},
   "outputs": [],
   "source": [
    "#creating a new dataframe for analysis \n",
    "month = merged.groupby(['Month'])['Revenue'].sum().reset_index()"
   ]
  },
  {
   "cell_type": "code",
   "execution_count": 111,
   "metadata": {},
   "outputs": [
    {
     "data": {
      "application/vnd.plotly.v1+json": {
       "config": {
        "linkText": "Export to plot.ly",
        "plotlyServerURL": "https://plot.ly",
        "showLink": false
       },
       "data": [
        {
         "type": "scatter",
         "x": [
          201610,
          201612,
          201701,
          201702,
          201703,
          201704,
          201705,
          201706,
          201707,
          201708,
          201709,
          201710,
          201711,
          201712,
          201801,
          201802,
          201803,
          201804,
          201805,
          201806,
          201807,
          201808
         ],
         "y": [
          26046.370000000003,
          19.62,
          66256.18999999994,
          149203.80000000016,
          222570.35999999952,
          194139.93000000002,
          308587.8000000011,
          268509.0200000002,
          342898.3400000026,
          363239.0600000036,
          372337.7100000028,
          393452.5800000032,
          655109.4000000041,
          492864.34000000276,
          643538.1300000054,
          591235.6900000046,
          638180.469999997,
          620367.2300000007,
          614250.7199999989,
          551534.9699999965,
          554320.7499999981,
          561131.5999999979
         ]
        }
       ],
       "layout": {
        "template": {
         "data": {
          "bar": [
           {
            "error_x": {
             "color": "#2a3f5f"
            },
            "error_y": {
             "color": "#2a3f5f"
            },
            "marker": {
             "line": {
              "color": "#E5ECF6",
              "width": 0.5
             }
            },
            "type": "bar"
           }
          ],
          "barpolar": [
           {
            "marker": {
             "line": {
              "color": "#E5ECF6",
              "width": 0.5
             }
            },
            "type": "barpolar"
           }
          ],
          "carpet": [
           {
            "aaxis": {
             "endlinecolor": "#2a3f5f",
             "gridcolor": "white",
             "linecolor": "white",
             "minorgridcolor": "white",
             "startlinecolor": "#2a3f5f"
            },
            "baxis": {
             "endlinecolor": "#2a3f5f",
             "gridcolor": "white",
             "linecolor": "white",
             "minorgridcolor": "white",
             "startlinecolor": "#2a3f5f"
            },
            "type": "carpet"
           }
          ],
          "choropleth": [
           {
            "colorbar": {
             "outlinewidth": 0,
             "ticks": ""
            },
            "type": "choropleth"
           }
          ],
          "contour": [
           {
            "colorbar": {
             "outlinewidth": 0,
             "ticks": ""
            },
            "colorscale": [
             [
              0,
              "#0d0887"
             ],
             [
              0.1111111111111111,
              "#46039f"
             ],
             [
              0.2222222222222222,
              "#7201a8"
             ],
             [
              0.3333333333333333,
              "#9c179e"
             ],
             [
              0.4444444444444444,
              "#bd3786"
             ],
             [
              0.5555555555555556,
              "#d8576b"
             ],
             [
              0.6666666666666666,
              "#ed7953"
             ],
             [
              0.7777777777777778,
              "#fb9f3a"
             ],
             [
              0.8888888888888888,
              "#fdca26"
             ],
             [
              1,
              "#f0f921"
             ]
            ],
            "type": "contour"
           }
          ],
          "contourcarpet": [
           {
            "colorbar": {
             "outlinewidth": 0,
             "ticks": ""
            },
            "type": "contourcarpet"
           }
          ],
          "heatmap": [
           {
            "colorbar": {
             "outlinewidth": 0,
             "ticks": ""
            },
            "colorscale": [
             [
              0,
              "#0d0887"
             ],
             [
              0.1111111111111111,
              "#46039f"
             ],
             [
              0.2222222222222222,
              "#7201a8"
             ],
             [
              0.3333333333333333,
              "#9c179e"
             ],
             [
              0.4444444444444444,
              "#bd3786"
             ],
             [
              0.5555555555555556,
              "#d8576b"
             ],
             [
              0.6666666666666666,
              "#ed7953"
             ],
             [
              0.7777777777777778,
              "#fb9f3a"
             ],
             [
              0.8888888888888888,
              "#fdca26"
             ],
             [
              1,
              "#f0f921"
             ]
            ],
            "type": "heatmap"
           }
          ],
          "heatmapgl": [
           {
            "colorbar": {
             "outlinewidth": 0,
             "ticks": ""
            },
            "colorscale": [
             [
              0,
              "#0d0887"
             ],
             [
              0.1111111111111111,
              "#46039f"
             ],
             [
              0.2222222222222222,
              "#7201a8"
             ],
             [
              0.3333333333333333,
              "#9c179e"
             ],
             [
              0.4444444444444444,
              "#bd3786"
             ],
             [
              0.5555555555555556,
              "#d8576b"
             ],
             [
              0.6666666666666666,
              "#ed7953"
             ],
             [
              0.7777777777777778,
              "#fb9f3a"
             ],
             [
              0.8888888888888888,
              "#fdca26"
             ],
             [
              1,
              "#f0f921"
             ]
            ],
            "type": "heatmapgl"
           }
          ],
          "histogram": [
           {
            "marker": {
             "colorbar": {
              "outlinewidth": 0,
              "ticks": ""
             }
            },
            "type": "histogram"
           }
          ],
          "histogram2d": [
           {
            "colorbar": {
             "outlinewidth": 0,
             "ticks": ""
            },
            "colorscale": [
             [
              0,
              "#0d0887"
             ],
             [
              0.1111111111111111,
              "#46039f"
             ],
             [
              0.2222222222222222,
              "#7201a8"
             ],
             [
              0.3333333333333333,
              "#9c179e"
             ],
             [
              0.4444444444444444,
              "#bd3786"
             ],
             [
              0.5555555555555556,
              "#d8576b"
             ],
             [
              0.6666666666666666,
              "#ed7953"
             ],
             [
              0.7777777777777778,
              "#fb9f3a"
             ],
             [
              0.8888888888888888,
              "#fdca26"
             ],
             [
              1,
              "#f0f921"
             ]
            ],
            "type": "histogram2d"
           }
          ],
          "histogram2dcontour": [
           {
            "colorbar": {
             "outlinewidth": 0,
             "ticks": ""
            },
            "colorscale": [
             [
              0,
              "#0d0887"
             ],
             [
              0.1111111111111111,
              "#46039f"
             ],
             [
              0.2222222222222222,
              "#7201a8"
             ],
             [
              0.3333333333333333,
              "#9c179e"
             ],
             [
              0.4444444444444444,
              "#bd3786"
             ],
             [
              0.5555555555555556,
              "#d8576b"
             ],
             [
              0.6666666666666666,
              "#ed7953"
             ],
             [
              0.7777777777777778,
              "#fb9f3a"
             ],
             [
              0.8888888888888888,
              "#fdca26"
             ],
             [
              1,
              "#f0f921"
             ]
            ],
            "type": "histogram2dcontour"
           }
          ],
          "mesh3d": [
           {
            "colorbar": {
             "outlinewidth": 0,
             "ticks": ""
            },
            "type": "mesh3d"
           }
          ],
          "parcoords": [
           {
            "line": {
             "colorbar": {
              "outlinewidth": 0,
              "ticks": ""
             }
            },
            "type": "parcoords"
           }
          ],
          "pie": [
           {
            "automargin": true,
            "type": "pie"
           }
          ],
          "scatter": [
           {
            "marker": {
             "colorbar": {
              "outlinewidth": 0,
              "ticks": ""
             }
            },
            "type": "scatter"
           }
          ],
          "scatter3d": [
           {
            "line": {
             "colorbar": {
              "outlinewidth": 0,
              "ticks": ""
             }
            },
            "marker": {
             "colorbar": {
              "outlinewidth": 0,
              "ticks": ""
             }
            },
            "type": "scatter3d"
           }
          ],
          "scattercarpet": [
           {
            "marker": {
             "colorbar": {
              "outlinewidth": 0,
              "ticks": ""
             }
            },
            "type": "scattercarpet"
           }
          ],
          "scattergeo": [
           {
            "marker": {
             "colorbar": {
              "outlinewidth": 0,
              "ticks": ""
             }
            },
            "type": "scattergeo"
           }
          ],
          "scattergl": [
           {
            "marker": {
             "colorbar": {
              "outlinewidth": 0,
              "ticks": ""
             }
            },
            "type": "scattergl"
           }
          ],
          "scattermapbox": [
           {
            "marker": {
             "colorbar": {
              "outlinewidth": 0,
              "ticks": ""
             }
            },
            "type": "scattermapbox"
           }
          ],
          "scatterpolar": [
           {
            "marker": {
             "colorbar": {
              "outlinewidth": 0,
              "ticks": ""
             }
            },
            "type": "scatterpolar"
           }
          ],
          "scatterpolargl": [
           {
            "marker": {
             "colorbar": {
              "outlinewidth": 0,
              "ticks": ""
             }
            },
            "type": "scatterpolargl"
           }
          ],
          "scatterternary": [
           {
            "marker": {
             "colorbar": {
              "outlinewidth": 0,
              "ticks": ""
             }
            },
            "type": "scatterternary"
           }
          ],
          "surface": [
           {
            "colorbar": {
             "outlinewidth": 0,
             "ticks": ""
            },
            "colorscale": [
             [
              0,
              "#0d0887"
             ],
             [
              0.1111111111111111,
              "#46039f"
             ],
             [
              0.2222222222222222,
              "#7201a8"
             ],
             [
              0.3333333333333333,
              "#9c179e"
             ],
             [
              0.4444444444444444,
              "#bd3786"
             ],
             [
              0.5555555555555556,
              "#d8576b"
             ],
             [
              0.6666666666666666,
              "#ed7953"
             ],
             [
              0.7777777777777778,
              "#fb9f3a"
             ],
             [
              0.8888888888888888,
              "#fdca26"
             ],
             [
              1,
              "#f0f921"
             ]
            ],
            "type": "surface"
           }
          ],
          "table": [
           {
            "cells": {
             "fill": {
              "color": "#EBF0F8"
             },
             "line": {
              "color": "white"
             }
            },
            "header": {
             "fill": {
              "color": "#C8D4E3"
             },
             "line": {
              "color": "white"
             }
            },
            "type": "table"
           }
          ]
         },
         "layout": {
          "annotationdefaults": {
           "arrowcolor": "#2a3f5f",
           "arrowhead": 0,
           "arrowwidth": 1
          },
          "coloraxis": {
           "colorbar": {
            "outlinewidth": 0,
            "ticks": ""
           }
          },
          "colorscale": {
           "diverging": [
            [
             0,
             "#8e0152"
            ],
            [
             0.1,
             "#c51b7d"
            ],
            [
             0.2,
             "#de77ae"
            ],
            [
             0.3,
             "#f1b6da"
            ],
            [
             0.4,
             "#fde0ef"
            ],
            [
             0.5,
             "#f7f7f7"
            ],
            [
             0.6,
             "#e6f5d0"
            ],
            [
             0.7,
             "#b8e186"
            ],
            [
             0.8,
             "#7fbc41"
            ],
            [
             0.9,
             "#4d9221"
            ],
            [
             1,
             "#276419"
            ]
           ],
           "sequential": [
            [
             0,
             "#0d0887"
            ],
            [
             0.1111111111111111,
             "#46039f"
            ],
            [
             0.2222222222222222,
             "#7201a8"
            ],
            [
             0.3333333333333333,
             "#9c179e"
            ],
            [
             0.4444444444444444,
             "#bd3786"
            ],
            [
             0.5555555555555556,
             "#d8576b"
            ],
            [
             0.6666666666666666,
             "#ed7953"
            ],
            [
             0.7777777777777778,
             "#fb9f3a"
            ],
            [
             0.8888888888888888,
             "#fdca26"
            ],
            [
             1,
             "#f0f921"
            ]
           ],
           "sequentialminus": [
            [
             0,
             "#0d0887"
            ],
            [
             0.1111111111111111,
             "#46039f"
            ],
            [
             0.2222222222222222,
             "#7201a8"
            ],
            [
             0.3333333333333333,
             "#9c179e"
            ],
            [
             0.4444444444444444,
             "#bd3786"
            ],
            [
             0.5555555555555556,
             "#d8576b"
            ],
            [
             0.6666666666666666,
             "#ed7953"
            ],
            [
             0.7777777777777778,
             "#fb9f3a"
            ],
            [
             0.8888888888888888,
             "#fdca26"
            ],
            [
             1,
             "#f0f921"
            ]
           ]
          },
          "colorway": [
           "#636efa",
           "#EF553B",
           "#00cc96",
           "#ab63fa",
           "#FFA15A",
           "#19d3f3",
           "#FF6692",
           "#B6E880",
           "#FF97FF",
           "#FECB52"
          ],
          "font": {
           "color": "#2a3f5f"
          },
          "geo": {
           "bgcolor": "white",
           "lakecolor": "white",
           "landcolor": "#E5ECF6",
           "showlakes": true,
           "showland": true,
           "subunitcolor": "white"
          },
          "hoverlabel": {
           "align": "left"
          },
          "hovermode": "closest",
          "mapbox": {
           "style": "light"
          },
          "paper_bgcolor": "white",
          "plot_bgcolor": "#E5ECF6",
          "polar": {
           "angularaxis": {
            "gridcolor": "white",
            "linecolor": "white",
            "ticks": ""
           },
           "bgcolor": "#E5ECF6",
           "radialaxis": {
            "gridcolor": "white",
            "linecolor": "white",
            "ticks": ""
           }
          },
          "scene": {
           "xaxis": {
            "backgroundcolor": "#E5ECF6",
            "gridcolor": "white",
            "gridwidth": 2,
            "linecolor": "white",
            "showbackground": true,
            "ticks": "",
            "zerolinecolor": "white"
           },
           "yaxis": {
            "backgroundcolor": "#E5ECF6",
            "gridcolor": "white",
            "gridwidth": 2,
            "linecolor": "white",
            "showbackground": true,
            "ticks": "",
            "zerolinecolor": "white"
           },
           "zaxis": {
            "backgroundcolor": "#E5ECF6",
            "gridcolor": "white",
            "gridwidth": 2,
            "linecolor": "white",
            "showbackground": true,
            "ticks": "",
            "zerolinecolor": "white"
           }
          },
          "shapedefaults": {
           "line": {
            "color": "#2a3f5f"
           }
          },
          "ternary": {
           "aaxis": {
            "gridcolor": "white",
            "linecolor": "white",
            "ticks": ""
           },
           "baxis": {
            "gridcolor": "white",
            "linecolor": "white",
            "ticks": ""
           },
           "bgcolor": "#E5ECF6",
           "caxis": {
            "gridcolor": "white",
            "linecolor": "white",
            "ticks": ""
           }
          },
          "title": {
           "x": 0.05
          },
          "xaxis": {
           "automargin": true,
           "gridcolor": "white",
           "linecolor": "white",
           "ticks": "",
           "title": {
            "standoff": 15
           },
           "zerolinecolor": "white",
           "zerolinewidth": 2
          },
          "yaxis": {
           "automargin": true,
           "gridcolor": "white",
           "linecolor": "white",
           "ticks": "",
           "title": {
            "standoff": 15
           },
           "zerolinecolor": "white",
           "zerolinewidth": 2
          }
         }
        },
        "title": {
         "text": "Revenue"
        },
        "xaxis": {
         "type": "category"
        }
       }
      },
      "text/html": [
       "<div>\n",
       "        \n",
       "        \n",
       "            <div id=\"8818e89f-dd00-4f6a-b924-74a1372cfb05\" class=\"plotly-graph-div\" style=\"height:525px; width:100%;\"></div>\n",
       "            <script type=\"text/javascript\">\n",
       "                require([\"plotly\"], function(Plotly) {\n",
       "                    window.PLOTLYENV=window.PLOTLYENV || {};\n",
       "                    \n",
       "                if (document.getElementById(\"8818e89f-dd00-4f6a-b924-74a1372cfb05\")) {\n",
       "                    Plotly.newPlot(\n",
       "                        '8818e89f-dd00-4f6a-b924-74a1372cfb05',\n",
       "                        [{\"type\": \"scatter\", \"x\": [201610, 201612, 201701, 201702, 201703, 201704, 201705, 201706, 201707, 201708, 201709, 201710, 201711, 201712, 201801, 201802, 201803, 201804, 201805, 201806, 201807, 201808], \"y\": [26046.370000000003, 19.62, 66256.18999999994, 149203.80000000016, 222570.35999999952, 194139.93000000002, 308587.8000000011, 268509.0200000002, 342898.3400000026, 363239.0600000036, 372337.7100000028, 393452.5800000032, 655109.4000000041, 492864.34000000276, 643538.1300000054, 591235.6900000046, 638180.469999997, 620367.2300000007, 614250.7199999989, 551534.9699999965, 554320.7499999981, 561131.5999999979]}],\n",
       "                        {\"template\": {\"data\": {\"bar\": [{\"error_x\": {\"color\": \"#2a3f5f\"}, \"error_y\": {\"color\": \"#2a3f5f\"}, \"marker\": {\"line\": {\"color\": \"#E5ECF6\", \"width\": 0.5}}, \"type\": \"bar\"}], \"barpolar\": [{\"marker\": {\"line\": {\"color\": \"#E5ECF6\", \"width\": 0.5}}, \"type\": \"barpolar\"}], \"carpet\": [{\"aaxis\": {\"endlinecolor\": \"#2a3f5f\", \"gridcolor\": \"white\", \"linecolor\": \"white\", \"minorgridcolor\": \"white\", \"startlinecolor\": \"#2a3f5f\"}, \"baxis\": {\"endlinecolor\": \"#2a3f5f\", \"gridcolor\": \"white\", \"linecolor\": \"white\", \"minorgridcolor\": \"white\", \"startlinecolor\": \"#2a3f5f\"}, \"type\": \"carpet\"}], \"choropleth\": [{\"colorbar\": {\"outlinewidth\": 0, \"ticks\": \"\"}, \"type\": \"choropleth\"}], \"contour\": [{\"colorbar\": {\"outlinewidth\": 0, \"ticks\": \"\"}, \"colorscale\": [[0.0, \"#0d0887\"], [0.1111111111111111, \"#46039f\"], [0.2222222222222222, \"#7201a8\"], [0.3333333333333333, \"#9c179e\"], [0.4444444444444444, \"#bd3786\"], [0.5555555555555556, \"#d8576b\"], [0.6666666666666666, \"#ed7953\"], [0.7777777777777778, \"#fb9f3a\"], [0.8888888888888888, \"#fdca26\"], [1.0, \"#f0f921\"]], \"type\": \"contour\"}], \"contourcarpet\": [{\"colorbar\": {\"outlinewidth\": 0, \"ticks\": \"\"}, \"type\": \"contourcarpet\"}], \"heatmap\": [{\"colorbar\": {\"outlinewidth\": 0, \"ticks\": \"\"}, \"colorscale\": [[0.0, \"#0d0887\"], [0.1111111111111111, \"#46039f\"], [0.2222222222222222, \"#7201a8\"], [0.3333333333333333, \"#9c179e\"], [0.4444444444444444, \"#bd3786\"], [0.5555555555555556, \"#d8576b\"], [0.6666666666666666, \"#ed7953\"], [0.7777777777777778, \"#fb9f3a\"], [0.8888888888888888, \"#fdca26\"], [1.0, \"#f0f921\"]], \"type\": \"heatmap\"}], \"heatmapgl\": [{\"colorbar\": {\"outlinewidth\": 0, \"ticks\": \"\"}, \"colorscale\": [[0.0, \"#0d0887\"], [0.1111111111111111, \"#46039f\"], [0.2222222222222222, \"#7201a8\"], [0.3333333333333333, \"#9c179e\"], [0.4444444444444444, \"#bd3786\"], [0.5555555555555556, \"#d8576b\"], [0.6666666666666666, \"#ed7953\"], [0.7777777777777778, \"#fb9f3a\"], [0.8888888888888888, \"#fdca26\"], [1.0, \"#f0f921\"]], \"type\": \"heatmapgl\"}], \"histogram\": [{\"marker\": {\"colorbar\": {\"outlinewidth\": 0, \"ticks\": \"\"}}, \"type\": \"histogram\"}], \"histogram2d\": [{\"colorbar\": {\"outlinewidth\": 0, \"ticks\": \"\"}, \"colorscale\": [[0.0, \"#0d0887\"], [0.1111111111111111, \"#46039f\"], [0.2222222222222222, \"#7201a8\"], [0.3333333333333333, \"#9c179e\"], [0.4444444444444444, \"#bd3786\"], [0.5555555555555556, \"#d8576b\"], [0.6666666666666666, \"#ed7953\"], [0.7777777777777778, \"#fb9f3a\"], [0.8888888888888888, \"#fdca26\"], [1.0, \"#f0f921\"]], \"type\": \"histogram2d\"}], \"histogram2dcontour\": [{\"colorbar\": {\"outlinewidth\": 0, \"ticks\": \"\"}, \"colorscale\": [[0.0, \"#0d0887\"], [0.1111111111111111, \"#46039f\"], [0.2222222222222222, \"#7201a8\"], [0.3333333333333333, \"#9c179e\"], [0.4444444444444444, \"#bd3786\"], [0.5555555555555556, \"#d8576b\"], [0.6666666666666666, \"#ed7953\"], [0.7777777777777778, \"#fb9f3a\"], [0.8888888888888888, \"#fdca26\"], [1.0, \"#f0f921\"]], \"type\": \"histogram2dcontour\"}], \"mesh3d\": [{\"colorbar\": {\"outlinewidth\": 0, \"ticks\": \"\"}, \"type\": \"mesh3d\"}], \"parcoords\": [{\"line\": {\"colorbar\": {\"outlinewidth\": 0, \"ticks\": \"\"}}, \"type\": \"parcoords\"}], \"pie\": [{\"automargin\": true, \"type\": \"pie\"}], \"scatter\": [{\"marker\": {\"colorbar\": {\"outlinewidth\": 0, \"ticks\": \"\"}}, \"type\": \"scatter\"}], \"scatter3d\": [{\"line\": {\"colorbar\": {\"outlinewidth\": 0, \"ticks\": \"\"}}, \"marker\": {\"colorbar\": {\"outlinewidth\": 0, \"ticks\": \"\"}}, \"type\": \"scatter3d\"}], \"scattercarpet\": [{\"marker\": {\"colorbar\": {\"outlinewidth\": 0, \"ticks\": \"\"}}, \"type\": \"scattercarpet\"}], \"scattergeo\": [{\"marker\": {\"colorbar\": {\"outlinewidth\": 0, \"ticks\": \"\"}}, \"type\": \"scattergeo\"}], \"scattergl\": [{\"marker\": {\"colorbar\": {\"outlinewidth\": 0, \"ticks\": \"\"}}, \"type\": \"scattergl\"}], \"scattermapbox\": [{\"marker\": {\"colorbar\": {\"outlinewidth\": 0, \"ticks\": \"\"}}, \"type\": \"scattermapbox\"}], \"scatterpolar\": [{\"marker\": {\"colorbar\": {\"outlinewidth\": 0, \"ticks\": \"\"}}, \"type\": \"scatterpolar\"}], \"scatterpolargl\": [{\"marker\": {\"colorbar\": {\"outlinewidth\": 0, \"ticks\": \"\"}}, \"type\": \"scatterpolargl\"}], \"scatterternary\": [{\"marker\": {\"colorbar\": {\"outlinewidth\": 0, \"ticks\": \"\"}}, \"type\": \"scatterternary\"}], \"surface\": [{\"colorbar\": {\"outlinewidth\": 0, \"ticks\": \"\"}, \"colorscale\": [[0.0, \"#0d0887\"], [0.1111111111111111, \"#46039f\"], [0.2222222222222222, \"#7201a8\"], [0.3333333333333333, \"#9c179e\"], [0.4444444444444444, \"#bd3786\"], [0.5555555555555556, \"#d8576b\"], [0.6666666666666666, \"#ed7953\"], [0.7777777777777778, \"#fb9f3a\"], [0.8888888888888888, \"#fdca26\"], [1.0, \"#f0f921\"]], \"type\": \"surface\"}], \"table\": [{\"cells\": {\"fill\": {\"color\": \"#EBF0F8\"}, \"line\": {\"color\": \"white\"}}, \"header\": {\"fill\": {\"color\": \"#C8D4E3\"}, \"line\": {\"color\": \"white\"}}, \"type\": \"table\"}]}, \"layout\": {\"annotationdefaults\": {\"arrowcolor\": \"#2a3f5f\", \"arrowhead\": 0, \"arrowwidth\": 1}, \"coloraxis\": {\"colorbar\": {\"outlinewidth\": 0, \"ticks\": \"\"}}, \"colorscale\": {\"diverging\": [[0, \"#8e0152\"], [0.1, \"#c51b7d\"], [0.2, \"#de77ae\"], [0.3, \"#f1b6da\"], [0.4, \"#fde0ef\"], [0.5, \"#f7f7f7\"], [0.6, \"#e6f5d0\"], [0.7, \"#b8e186\"], [0.8, \"#7fbc41\"], [0.9, \"#4d9221\"], [1, \"#276419\"]], \"sequential\": [[0.0, \"#0d0887\"], [0.1111111111111111, \"#46039f\"], [0.2222222222222222, \"#7201a8\"], [0.3333333333333333, \"#9c179e\"], [0.4444444444444444, \"#bd3786\"], [0.5555555555555556, \"#d8576b\"], [0.6666666666666666, \"#ed7953\"], [0.7777777777777778, \"#fb9f3a\"], [0.8888888888888888, \"#fdca26\"], [1.0, \"#f0f921\"]], \"sequentialminus\": [[0.0, \"#0d0887\"], [0.1111111111111111, \"#46039f\"], [0.2222222222222222, \"#7201a8\"], [0.3333333333333333, \"#9c179e\"], [0.4444444444444444, \"#bd3786\"], [0.5555555555555556, \"#d8576b\"], [0.6666666666666666, \"#ed7953\"], [0.7777777777777778, \"#fb9f3a\"], [0.8888888888888888, \"#fdca26\"], [1.0, \"#f0f921\"]]}, \"colorway\": [\"#636efa\", \"#EF553B\", \"#00cc96\", \"#ab63fa\", \"#FFA15A\", \"#19d3f3\", \"#FF6692\", \"#B6E880\", \"#FF97FF\", \"#FECB52\"], \"font\": {\"color\": \"#2a3f5f\"}, \"geo\": {\"bgcolor\": \"white\", \"lakecolor\": \"white\", \"landcolor\": \"#E5ECF6\", \"showlakes\": true, \"showland\": true, \"subunitcolor\": \"white\"}, \"hoverlabel\": {\"align\": \"left\"}, \"hovermode\": \"closest\", \"mapbox\": {\"style\": \"light\"}, \"paper_bgcolor\": \"white\", \"plot_bgcolor\": \"#E5ECF6\", \"polar\": {\"angularaxis\": {\"gridcolor\": \"white\", \"linecolor\": \"white\", \"ticks\": \"\"}, \"bgcolor\": \"#E5ECF6\", \"radialaxis\": {\"gridcolor\": \"white\", \"linecolor\": \"white\", \"ticks\": \"\"}}, \"scene\": {\"xaxis\": {\"backgroundcolor\": \"#E5ECF6\", \"gridcolor\": \"white\", \"gridwidth\": 2, \"linecolor\": \"white\", \"showbackground\": true, \"ticks\": \"\", \"zerolinecolor\": \"white\"}, \"yaxis\": {\"backgroundcolor\": \"#E5ECF6\", \"gridcolor\": \"white\", \"gridwidth\": 2, \"linecolor\": \"white\", \"showbackground\": true, \"ticks\": \"\", \"zerolinecolor\": \"white\"}, \"zaxis\": {\"backgroundcolor\": \"#E5ECF6\", \"gridcolor\": \"white\", \"gridwidth\": 2, \"linecolor\": \"white\", \"showbackground\": true, \"ticks\": \"\", \"zerolinecolor\": \"white\"}}, \"shapedefaults\": {\"line\": {\"color\": \"#2a3f5f\"}}, \"ternary\": {\"aaxis\": {\"gridcolor\": \"white\", \"linecolor\": \"white\", \"ticks\": \"\"}, \"baxis\": {\"gridcolor\": \"white\", \"linecolor\": \"white\", \"ticks\": \"\"}, \"bgcolor\": \"#E5ECF6\", \"caxis\": {\"gridcolor\": \"white\", \"linecolor\": \"white\", \"ticks\": \"\"}}, \"title\": {\"x\": 0.05}, \"xaxis\": {\"automargin\": true, \"gridcolor\": \"white\", \"linecolor\": \"white\", \"ticks\": \"\", \"title\": {\"standoff\": 15}, \"zerolinecolor\": \"white\", \"zerolinewidth\": 2}, \"yaxis\": {\"automargin\": true, \"gridcolor\": \"white\", \"linecolor\": \"white\", \"ticks\": \"\", \"title\": {\"standoff\": 15}, \"zerolinecolor\": \"white\", \"zerolinewidth\": 2}}}, \"title\": {\"text\": \"Revenue\"}, \"xaxis\": {\"type\": \"category\"}},\n",
       "                        {\"responsive\": true}\n",
       "                    ).then(function(){\n",
       "                            \n",
       "var gd = document.getElementById('8818e89f-dd00-4f6a-b924-74a1372cfb05');\n",
       "var x = new MutationObserver(function (mutations, observer) {{\n",
       "        var display = window.getComputedStyle(gd).display;\n",
       "        if (!display || display === 'none') {{\n",
       "            console.log([gd, 'removed!']);\n",
       "            Plotly.purge(gd);\n",
       "            observer.disconnect();\n",
       "        }}\n",
       "}});\n",
       "\n",
       "// Listen for the removal of the full notebook cells\n",
       "var notebookContainer = gd.closest('#notebook-container');\n",
       "if (notebookContainer) {{\n",
       "    x.observe(notebookContainer, {childList: true});\n",
       "}}\n",
       "\n",
       "// Listen for the clearing of the current output cell\n",
       "var outputEl = gd.closest('.output');\n",
       "if (outputEl) {{\n",
       "    x.observe(outputEl, {childList: true});\n",
       "}}\n",
       "\n",
       "                        })\n",
       "                };\n",
       "                });\n",
       "            </script>\n",
       "        </div>"
      ]
     },
     "metadata": {},
     "output_type": "display_data"
    }
   ],
   "source": [
    "#creating a scatter plot for Revenue with respect to month \n",
    "\n",
    "month_df = [\n",
    "    go.Scatter(\n",
    "        x=month['Month'], ,\n",
    "        y=month['Revenue'],\n",
    "    )\n",
    "]\n",
    "\n",
    "scatter_layout = go.Layout(\n",
    "        xaxis={\"type\": \"category\"},\n",
    "        title='Revenue'\n",
    "    )\n",
    "figure = go.Figure(data=month_df, layout=scatter_layout)\n",
    "pyoff.iplot(figure)"
   ]
  },
  {
   "cell_type": "code",
   "execution_count": 42,
   "metadata": {},
   "outputs": [
    {
     "data": {
      "text/plain": [
       "bed_bath_table                             10167\n",
       "health_beauty                               8059\n",
       "sports_leisure                              7527\n",
       "furniture_decor                             7469\n",
       "computers_accessories                       6882\n",
       "housewares                                  6318\n",
       "watches_gifts                               4233\n",
       "telephony                                   4113\n",
       "garden_tools                                3875\n",
       "toys                                        3538\n",
       "auto                                        3473\n",
       "perfumery                                   2811\n",
       "cool_stuff                                  2710\n",
       "baby                                        2607\n",
       "electronics                                 2591\n",
       "stationery                                  2341\n",
       "fashion_bags_accessories                    1902\n",
       "pet_shop                                    1753\n",
       "Other                                       1467\n",
       "office_furniture                            1081\n",
       "consoles_games                               909\n",
       "luggage_accessories                          865\n",
       "construction_tools_construction              732\n",
       "home_appliances                              700\n",
       "books_general_interest                       521\n",
       "food                                         503\n",
       "home_construction                            479\n",
       "small_appliances                             435\n",
       "musical_instruments                          432\n",
       "furniture_living_room                        407\n",
       "                                           ...  \n",
       "air_conditioning                             193\n",
       "kitchen_dining_laundry_garden_furniture      192\n",
       "signaling_and_security                       165\n",
       "christmas_supplies                           146\n",
       "fashion_underwear_beach                      131\n",
       "construction_tools_safety                    130\n",
       "fashion_male_clothing                        124\n",
       "agro_industry_and_commerce                    94\n",
       "tablets_printing_image                        82\n",
       "home_appliances_2                             80\n",
       "costruction_tools_tools                       77\n",
       "cine_photo                                    67\n",
       "dvds_blu_ray                                  60\n",
       "books_imported                                59\n",
       "furniture_bedroom                             48\n",
       "fashio_female_clothing                        47\n",
       "diapers_and_hygiene                           39\n",
       "party_supplies                                35\n",
       "flowers                                       33\n",
       "furniture_mattress_and_upholstery             33\n",
       "home_comfort_2                                29\n",
       "small_appliances_home_oven_and_coffee         27\n",
       "fashion_sport                                 27\n",
       "music                                         25\n",
       "arts_and_craftmanship                         22\n",
       "cds_dvds_musicals                             14\n",
       "la_cuisine                                    11\n",
       "fashion_childrens_clothes                      8\n",
       "security_and_services                          2\n",
       "computers                                      1\n",
       "Name: product_category_name_english, Length: 72, dtype: int64"
      ]
     },
     "execution_count": 42,
     "metadata": {},
     "output_type": "execute_result"
    }
   ],
   "source": [
    "merged['product_category_name_english'].value_counts()\n",
    "\n",
    "#there are 72 product categories "
   ]
  },
  {
   "cell_type": "code",
   "execution_count": 43,
   "metadata": {},
   "outputs": [],
   "source": [
    "#creating new order_item column \n",
    "\n",
    "merged['order_item'] = merged.order_item_id.astype(str) + merged.order_id"
   ]
  },
  {
   "cell_type": "code",
   "execution_count": 44,
   "metadata": {},
   "outputs": [],
   "source": [
    "#creating monthly active customers \n",
    "active = merged.groupby('Month')['customer_unique_id'].nunique().reset_index()"
   ]
  },
  {
   "cell_type": "code",
   "execution_count": 45,
   "metadata": {},
   "outputs": [
    {
     "data": {
      "text/plain": [
       "<matplotlib.axes._subplots.AxesSubplot at 0x26fbc2ec7b8>"
      ]
     },
     "execution_count": 45,
     "metadata": {},
     "output_type": "execute_result"
    },
    {
     "data": {
      "image/png": "[encoded data removed]",
      "text/plain": [
       "<Figure size 1152x432 with 1 Axes>"
      ]
     },
     "metadata": {},
     "output_type": "display_data"
    }
   ],
   "source": [
    "#creating a barplot for distribution \n",
    "sns.set(style=\"whitegrid\")\n",
    "plt.figure(figsize = (16,6))\n",
    "sns.barplot(x=\"Month\", y=\"customer_unique_id\", data=active)"
   ]
  },
  {
   "cell_type": "markdown",
   "metadata": {},
   "source": [
    "Monthly unique/new customers have increased from November 2017. We do not know whether there were any promotions or any sales/marketing efforts that aided this growth"
   ]
  },
  {
   "cell_type": "code",
   "execution_count": 46,
   "metadata": {},
   "outputs": [],
   "source": [
    "#Analyzing new vs existing customers \n",
    "#create a dataframe containning unqiue customer id and the first_order_date \n",
    "first_purchase = merged.groupby('customer_unique_id').order_purchase_timestamp.min().reset_index()\n",
    "first_purchase.columns = ['customer_unique_id','firstpurchasedate']\n",
    "first_purchase['First_Month'] = first_purchase['firstpurchasedate'].map(lambda date: 100*date.year + date.month)\n",
    "\n"
   ]
  },
  {
   "cell_type": "code",
   "execution_count": 47,
   "metadata": {},
   "outputs": [
    {
     "data": {
      "text/html": [
       "<div>\n",
       "<style scoped>\n",
       "    .dataframe tbody tr th:only-of-type {\n",
       "        vertical-align: middle;\n",
       "    }\n",
       "\n",
       "    .dataframe tbody tr th {\n",
       "        vertical-align: top;\n",
       "    }\n",
       "\n",
       "    .dataframe thead th {\n",
       "        text-align: right;\n",
       "    }\n",
       "</style>\n",
       "<table border=\"1\" class=\"dataframe\">\n",
       "  <thead>\n",
       "    <tr style=\"text-align: right;\">\n",
       "      <th></th>\n",
       "      <th>index</th>\n",
       "      <th>order_id</th>\n",
       "      <th>order_item_id</th>\n",
       "      <th>product_category_name_english</th>\n",
       "      <th>customer_id</th>\n",
       "      <th>order_purchase_timestamp</th>\n",
       "      <th>customer_unique_id</th>\n",
       "      <th>Revenue</th>\n",
       "      <th>Month</th>\n",
       "      <th>order_item</th>\n",
       "      <th>firstpurchasedate</th>\n",
       "      <th>First_Month</th>\n",
       "    </tr>\n",
       "  </thead>\n",
       "  <tbody>\n",
       "    <tr>\n",
       "      <th>0</th>\n",
       "      <td>0</td>\n",
       "      <td>00010242fe8c5a6d1ba2dd792cb16214</td>\n",
       "      <td>1</td>\n",
       "      <td>cool_stuff</td>\n",
       "      <td>3ce436f183e68e07877b285a838db11a</td>\n",
       "      <td>2017-09-13 08:59:02</td>\n",
       "      <td>871766c5855e863f6eccc05f988b23cb</td>\n",
       "      <td>72.19</td>\n",
       "      <td>201709</td>\n",
       "      <td>100010242fe8c5a6d1ba2dd792cb16214</td>\n",
       "      <td>2017-09-13 08:59:02</td>\n",
       "      <td>201709</td>\n",
       "    </tr>\n",
       "    <tr>\n",
       "      <th>1</th>\n",
       "      <td>3</td>\n",
       "      <td>00024acbcdf0a6daa1e931b038114c75</td>\n",
       "      <td>1</td>\n",
       "      <td>perfumery</td>\n",
       "      <td>d4eb9395c8c0431ee92fce09860c5a06</td>\n",
       "      <td>2018-08-08 10:00:35</td>\n",
       "      <td>af861d436cfc08b2c2ddefd0ba074622</td>\n",
       "      <td>25.78</td>\n",
       "      <td>201808</td>\n",
       "      <td>100024acbcdf0a6daa1e931b038114c75</td>\n",
       "      <td>2018-08-08 10:00:35</td>\n",
       "      <td>201808</td>\n",
       "    </tr>\n",
       "  </tbody>\n",
       "</table>\n",
       "</div>"
      ],
      "text/plain": [
       "   index                          order_id  order_item_id  \\\n",
       "0      0  00010242fe8c5a6d1ba2dd792cb16214              1   \n",
       "1      3  00024acbcdf0a6daa1e931b038114c75              1   \n",
       "\n",
       "  product_category_name_english                       customer_id  \\\n",
       "0                    cool_stuff  3ce436f183e68e07877b285a838db11a   \n",
       "1                     perfumery  d4eb9395c8c0431ee92fce09860c5a06   \n",
       "\n",
       "  order_purchase_timestamp                customer_unique_id  Revenue   Month  \\\n",
       "0      2017-09-13 08:59:02  871766c5855e863f6eccc05f988b23cb    72.19  201709   \n",
       "1      2018-08-08 10:00:35  af861d436cfc08b2c2ddefd0ba074622    25.78  201808   \n",
       "\n",
       "                          order_item   firstpurchasedate  First_Month  \n",
       "0  100010242fe8c5a6d1ba2dd792cb16214 2017-09-13 08:59:02       201709  \n",
       "1  100024acbcdf0a6daa1e931b038114c75 2018-08-08 10:00:35       201808  "
      ]
     },
     "execution_count": 47,
     "metadata": {},
     "output_type": "execute_result"
    }
   ],
   "source": [
    "#merge first purchase date column to our main dataframe \n",
    "merged = pd.merge(merged, first_purchase, on='customer_unique_id')\n",
    "\n",
    "merged.head(2)"
   ]
  },
  {
   "cell_type": "code",
   "execution_count": 48,
   "metadata": {},
   "outputs": [],
   "source": [
    "#assigning new and existing user values \n",
    "merged['user_type'] = 'New'\n",
    "merged.loc[merged['Month']>merged['First_Month'],'user_type'] = 'Existing'"
   ]
  },
  {
   "cell_type": "code",
   "execution_count": 49,
   "metadata": {},
   "outputs": [],
   "source": [
    "#creting dataframe for user type revenue \n",
    "user_type_revenue = merged.groupby(['Month','user_type'])['Revenue'].sum().reset_index()\n",
    "x =user_type_revenue.query(\"Month !=201610 and Month != 201612\")"
   ]
  },
  {
   "cell_type": "code",
   "execution_count": 50,
   "metadata": {},
   "outputs": [
    {
     "data": {
      "application/vnd.plotly.v1+json": {
       "config": {
        "linkText": "Export to plot.ly",
        "plotlyServerURL": "https://plot.ly",
        "showLink": false
       },
       "data": [
        {
         "name": "Existing",
         "type": "scatter",
         "x": [
          201701,
          201702,
          201703,
          201704,
          201705,
          201706,
          201707,
          201708,
          201709,
          201710,
          201711,
          201712,
          201801,
          201802,
          201803,
          201804,
          201805,
          201806,
          201807,
          201808
         ],
         "y": [
          19.62,
          170.83,
          308.01,
          1771.6100000000001,
          2223.0400000000004,
          2699.07,
          4163.540000000002,
          5930.289999999998,
          5314.24,
          8112.250000000003,
          10065.540000000003,
          10139.140000000001,
          10602.640000000003,
          9731.95,
          14531.100000000002,
          15390.899999999992,
          15801.360000000006,
          18107.67,
          12997.920000000004,
          14795.840000000011
         ]
        },
        {
         "name": "New",
         "type": "scatter",
         "x": [
          201701,
          201702,
          201703,
          201704,
          201705,
          201706,
          201707,
          201708,
          201709,
          201710,
          201711,
          201712,
          201801,
          201802,
          201803,
          201804,
          201805,
          201806,
          201807,
          201808
         ],
         "y": [
          66236.56999999995,
          149032.97000000015,
          222262.34999999954,
          192368.31999999995,
          306364.7600000009,
          265809.95000000007,
          338734.80000000267,
          357308.77000000345,
          367023.47000000265,
          385340.3300000029,
          645043.8600000045,
          482725.20000000263,
          632935.4900000057,
          581503.740000005,
          623649.369999997,
          604976.3300000004,
          598449.3599999987,
          533427.2999999966,
          541322.8299999987,
          546335.7599999981
         ]
        }
       ],
       "layout": {
        "template": {
         "data": {
          "bar": [
           {
            "error_x": {
             "color": "#2a3f5f"
            },
            "error_y": {
             "color": "#2a3f5f"
            },
            "marker": {
             "line": {
              "color": "#E5ECF6",
              "width": 0.5
             }
            },
            "type": "bar"
           }
          ],
          "barpolar": [
           {
            "marker": {
             "line": {
              "color": "#E5ECF6",
              "width": 0.5
             }
            },
            "type": "barpolar"
           }
          ],
          "carpet": [
           {
            "aaxis": {
             "endlinecolor": "#2a3f5f",
             "gridcolor": "white",
             "linecolor": "white",
             "minorgridcolor": "white",
             "startlinecolor": "#2a3f5f"
            },
            "baxis": {
             "endlinecolor": "#2a3f5f",
             "gridcolor": "white",
             "linecolor": "white",
             "minorgridcolor": "white",
             "startlinecolor": "#2a3f5f"
            },
            "type": "carpet"
           }
          ],
          "choropleth": [
           {
            "colorbar": {
             "outlinewidth": 0,
             "ticks": ""
            },
            "type": "choropleth"
           }
          ],
          "contour": [
           {
            "colorbar": {
             "outlinewidth": 0,
             "ticks": ""
            },
            "colorscale": [
             [
              0,
              "#0d0887"
             ],
             [
              0.1111111111111111,
              "#46039f"
             ],
             [
              0.2222222222222222,
              "#7201a8"
             ],
             [
              0.3333333333333333,
              "#9c179e"
             ],
             [
              0.4444444444444444,
              "#bd3786"
             ],
             [
              0.5555555555555556,
              "#d8576b"
             ],
             [
              0.6666666666666666,
              "#ed7953"
             ],
             [
              0.7777777777777778,
              "#fb9f3a"
             ],
             [
              0.8888888888888888,
              "#fdca26"
             ],
             [
              1,
              "#f0f921"
             ]
            ],
            "type": "contour"
           }
          ],
          "contourcarpet": [
           {
            "colorbar": {
             "outlinewidth": 0,
             "ticks": ""
            },
            "type": "contourcarpet"
           }
          ],
          "heatmap": [
           {
            "colorbar": {
             "outlinewidth": 0,
             "ticks": ""
            },
            "colorscale": [
             [
              0,
              "#0d0887"
             ],
             [
              0.1111111111111111,
              "#46039f"
             ],
             [
              0.2222222222222222,
              "#7201a8"
             ],
             [
              0.3333333333333333,
              "#9c179e"
             ],
             [
              0.4444444444444444,
              "#bd3786"
             ],
             [
              0.5555555555555556,
              "#d8576b"
             ],
             [
              0.6666666666666666,
              "#ed7953"
             ],
             [
              0.7777777777777778,
              "#fb9f3a"
             ],
             [
              0.8888888888888888,
              "#fdca26"
             ],
             [
              1,
              "#f0f921"
             ]
            ],
            "type": "heatmap"
           }
          ],
          "heatmapgl": [
           {
            "colorbar": {
             "outlinewidth": 0,
             "ticks": ""
            },
            "colorscale": [
             [
              0,
              "#0d0887"
             ],
             [
              0.1111111111111111,
              "#46039f"
             ],
             [
              0.2222222222222222,
              "#7201a8"
             ],
             [
              0.3333333333333333,
              "#9c179e"
             ],
             [
              0.4444444444444444,
              "#bd3786"
             ],
             [
              0.5555555555555556,
              "#d8576b"
             ],
             [
              0.6666666666666666,
              "#ed7953"
             ],
             [
              0.7777777777777778,
              "#fb9f3a"
             ],
             [
              0.8888888888888888,
              "#fdca26"
             ],
             [
              1,
              "#f0f921"
             ]
            ],
            "type": "heatmapgl"
           }
          ],
          "histogram": [
           {
            "marker": {
             "colorbar": {
              "outlinewidth": 0,
              "ticks": ""
             }
            },
            "type": "histogram"
           }
          ],
          "histogram2d": [
           {
            "colorbar": {
             "outlinewidth": 0,
             "ticks": ""
            },
            "colorscale": [
             [
              0,
              "#0d0887"
             ],
             [
              0.1111111111111111,
              "#46039f"
             ],
             [
              0.2222222222222222,
              "#7201a8"
             ],
             [
              0.3333333333333333,
              "#9c179e"
             ],
             [
              0.4444444444444444,
              "#bd3786"
             ],
             [
              0.5555555555555556,
              "#d8576b"
             ],
             [
              0.6666666666666666,
              "#ed7953"
             ],
             [
              0.7777777777777778,
              "#fb9f3a"
             ],
             [
              0.8888888888888888,
              "#fdca26"
             ],
             [
              1,
              "#f0f921"
             ]
            ],
            "type": "histogram2d"
           }
          ],
          "histogram2dcontour": [
           {
            "colorbar": {
             "outlinewidth": 0,
             "ticks": ""
            },
            "colorscale": [
             [
              0,
              "#0d0887"
             ],
             [
              0.1111111111111111,
              "#46039f"
             ],
             [
              0.2222222222222222,
              "#7201a8"
             ],
             [
              0.3333333333333333,
              "#9c179e"
             ],
             [
              0.4444444444444444,
              "#bd3786"
             ],
             [
              0.5555555555555556,
              "#d8576b"
             ],
             [
              0.6666666666666666,
              "#ed7953"
             ],
             [
              0.7777777777777778,
              "#fb9f3a"
             ],
             [
              0.8888888888888888,
              "#fdca26"
             ],
             [
              1,
              "#f0f921"
             ]
            ],
            "type": "histogram2dcontour"
           }
          ],
          "mesh3d": [
           {
            "colorbar": {
             "outlinewidth": 0,
             "ticks": ""
            },
            "type": "mesh3d"
           }
          ],
          "parcoords": [
           {
            "line": {
             "colorbar": {
              "outlinewidth": 0,
              "ticks": ""
             }
            },
            "type": "parcoords"
           }
          ],
          "pie": [
           {
            "automargin": true,
            "type": "pie"
           }
          ],
          "scatter": [
           {
            "marker": {
             "colorbar": {
              "outlinewidth": 0,
              "ticks": ""
             }
            },
            "type": "scatter"
           }
          ],
          "scatter3d": [
           {
            "line": {
             "colorbar": {
              "outlinewidth": 0,
              "ticks": ""
             }
            },
            "marker": {
             "colorbar": {
              "outlinewidth": 0,
              "ticks": ""
             }
            },
            "type": "scatter3d"
           }
          ],
          "scattercarpet": [
           {
            "marker": {
             "colorbar": {
              "outlinewidth": 0,
              "ticks": ""
             }
            },
            "type": "scattercarpet"
           }
          ],
          "scattergeo": [
           {
            "marker": {
             "colorbar": {
              "outlinewidth": 0,
              "ticks": ""
             }
            },
            "type": "scattergeo"
           }
          ],
          "scattergl": [
           {
            "marker": {
             "colorbar": {
              "outlinewidth": 0,
              "ticks": ""
             }
            },
            "type": "scattergl"
           }
          ],
          "scattermapbox": [
           {
            "marker": {
             "colorbar": {
              "outlinewidth": 0,
              "ticks": ""
             }
            },
            "type": "scattermapbox"
           }
          ],
          "scatterpolar": [
           {
            "marker": {
             "colorbar": {
              "outlinewidth": 0,
              "ticks": ""
             }
            },
            "type": "scatterpolar"
           }
          ],
          "scatterpolargl": [
           {
            "marker": {
             "colorbar": {
              "outlinewidth": 0,
              "ticks": ""
             }
            },
            "type": "scatterpolargl"
           }
          ],
          "scatterternary": [
           {
            "marker": {
             "colorbar": {
              "outlinewidth": 0,
              "ticks": ""
             }
            },
            "type": "scatterternary"
           }
          ],
          "surface": [
           {
            "colorbar": {
             "outlinewidth": 0,
             "ticks": ""
            },
            "colorscale": [
             [
              0,
              "#0d0887"
             ],
             [
              0.1111111111111111,
              "#46039f"
             ],
             [
              0.2222222222222222,
              "#7201a8"
             ],
             [
              0.3333333333333333,
              "#9c179e"
             ],
             [
              0.4444444444444444,
              "#bd3786"
             ],
             [
              0.5555555555555556,
              "#d8576b"
             ],
             [
              0.6666666666666666,
              "#ed7953"
             ],
             [
              0.7777777777777778,
              "#fb9f3a"
             ],
             [
              0.8888888888888888,
              "#fdca26"
             ],
             [
              1,
              "#f0f921"
             ]
            ],
            "type": "surface"
           }
          ],
          "table": [
           {
            "cells": {
             "fill": {
              "color": "#EBF0F8"
             },
             "line": {
              "color": "white"
             }
            },
            "header": {
             "fill": {
              "color": "#C8D4E3"
             },
             "line": {
              "color": "white"
             }
            },
            "type": "table"
           }
          ]
         },
         "layout": {
          "annotationdefaults": {
           "arrowcolor": "#2a3f5f",
           "arrowhead": 0,
           "arrowwidth": 1
          },
          "coloraxis": {
           "colorbar": {
            "outlinewidth": 0,
            "ticks": ""
           }
          },
          "colorscale": {
           "diverging": [
            [
             0,
             "#8e0152"
            ],
            [
             0.1,
             "#c51b7d"
            ],
            [
             0.2,
             "#de77ae"
            ],
            [
             0.3,
             "#f1b6da"
            ],
            [
             0.4,
             "#fde0ef"
            ],
            [
             0.5,
             "#f7f7f7"
            ],
            [
             0.6,
             "#e6f5d0"
            ],
            [
             0.7,
             "#b8e186"
            ],
            [
             0.8,
             "#7fbc41"
            ],
            [
             0.9,
             "#4d9221"
            ],
            [
             1,
             "#276419"
            ]
           ],
           "sequential": [
            [
             0,
             "#0d0887"
            ],
            [
             0.1111111111111111,
             "#46039f"
            ],
            [
             0.2222222222222222,
             "#7201a8"
            ],
            [
             0.3333333333333333,
             "#9c179e"
            ],
            [
             0.4444444444444444,
             "#bd3786"
            ],
            [
             0.5555555555555556,
             "#d8576b"
            ],
            [
             0.6666666666666666,
             "#ed7953"
            ],
            [
             0.7777777777777778,
             "#fb9f3a"
            ],
            [
             0.8888888888888888,
             "#fdca26"
            ],
            [
             1,
             "#f0f921"
            ]
           ],
           "sequentialminus": [
            [
             0,
             "#0d0887"
            ],
            [
             0.1111111111111111,
             "#46039f"
            ],
            [
             0.2222222222222222,
             "#7201a8"
            ],
            [
             0.3333333333333333,
             "#9c179e"
            ],
            [
             0.4444444444444444,
             "#bd3786"
            ],
            [
             0.5555555555555556,
             "#d8576b"
            ],
            [
             0.6666666666666666,
             "#ed7953"
            ],
            [
             0.7777777777777778,
             "#fb9f3a"
            ],
            [
             0.8888888888888888,
             "#fdca26"
            ],
            [
             1,
             "#f0f921"
            ]
           ]
          },
          "colorway": [
           "#636efa",
           "#EF553B",
           "#00cc96",
           "#ab63fa",
           "#FFA15A",
           "#19d3f3",
           "#FF6692",
           "#B6E880",
           "#FF97FF",
           "#FECB52"
          ],
          "font": {
           "color": "#2a3f5f"
          },
          "geo": {
           "bgcolor": "white",
           "lakecolor": "white",
           "landcolor": "#E5ECF6",
           "showlakes": true,
           "showland": true,
           "subunitcolor": "white"
          },
          "hoverlabel": {
           "align": "left"
          },
          "hovermode": "closest",
          "mapbox": {
           "style": "light"
          },
          "paper_bgcolor": "white",
          "plot_bgcolor": "#E5ECF6",
          "polar": {
           "angularaxis": {
            "gridcolor": "white",
            "linecolor": "white",
            "ticks": ""
           },
           "bgcolor": "#E5ECF6",
           "radialaxis": {
            "gridcolor": "white",
            "linecolor": "white",
            "ticks": ""
           }
          },
          "scene": {
           "xaxis": {
            "backgroundcolor": "#E5ECF6",
            "gridcolor": "white",
            "gridwidth": 2,
            "linecolor": "white",
            "showbackground": true,
            "ticks": "",
            "zerolinecolor": "white"
           },
           "yaxis": {
            "backgroundcolor": "#E5ECF6",
            "gridcolor": "white",
            "gridwidth": 2,
            "linecolor": "white",
            "showbackground": true,
            "ticks": "",
            "zerolinecolor": "white"
           },
           "zaxis": {
            "backgroundcolor": "#E5ECF6",
            "gridcolor": "white",
            "gridwidth": 2,
            "linecolor": "white",
            "showbackground": true,
            "ticks": "",
            "zerolinecolor": "white"
           }
          },
          "shapedefaults": {
           "line": {
            "color": "#2a3f5f"
           }
          },
          "ternary": {
           "aaxis": {
            "gridcolor": "white",
            "linecolor": "white",
            "ticks": ""
           },
           "baxis": {
            "gridcolor": "white",
            "linecolor": "white",
            "ticks": ""
           },
           "bgcolor": "#E5ECF6",
           "caxis": {
            "gridcolor": "white",
            "linecolor": "white",
            "ticks": ""
           }
          },
          "title": {
           "x": 0.05
          },
          "xaxis": {
           "automargin": true,
           "gridcolor": "white",
           "linecolor": "white",
           "ticks": "",
           "title": {
            "standoff": 15
           },
           "zerolinecolor": "white",
           "zerolinewidth": 2
          },
          "yaxis": {
           "automargin": true,
           "gridcolor": "white",
           "linecolor": "white",
           "ticks": "",
           "title": {
            "standoff": 15
           },
           "zerolinecolor": "white",
           "zerolinewidth": 2
          }
         }
        },
        "title": {
         "text": "New vs Existing"
        },
        "xaxis": {
         "type": "category"
        }
       }
      },
      "text/html": [
       "<div>\n",
       "        \n",
       "        \n",
       "            <div id=\"27d372f3-a446-49e6-b7f0-875483efe264\" class=\"plotly-graph-div\" style=\"height:525px; width:100%;\"></div>\n",
       "            <script type=\"text/javascript\">\n",
       "                require([\"plotly\"], function(Plotly) {\n",
       "                    window.PLOTLYENV=window.PLOTLYENV || {};\n",
       "                    \n",
       "                if (document.getElementById(\"27d372f3-a446-49e6-b7f0-875483efe264\")) {\n",
       "                    Plotly.newPlot(\n",
       "                        '27d372f3-a446-49e6-b7f0-875483efe264',\n",
       "                        [{\"name\": \"Existing\", \"type\": \"scatter\", \"x\": [201701, 201702, 201703, 201704, 201705, 201706, 201707, 201708, 201709, 201710, 201711, 201712, 201801, 201802, 201803, 201804, 201805, 201806, 201807, 201808], \"y\": [19.62, 170.83, 308.01, 1771.6100000000001, 2223.0400000000004, 2699.07, 4163.540000000002, 5930.289999999998, 5314.24, 8112.250000000003, 10065.540000000003, 10139.140000000001, 10602.640000000003, 9731.95, 14531.100000000002, 15390.899999999992, 15801.360000000006, 18107.67, 12997.920000000004, 14795.840000000011]}, {\"name\": \"New\", \"type\": \"scatter\", \"x\": [201701, 201702, 201703, 201704, 201705, 201706, 201707, 201708, 201709, 201710, 201711, 201712, 201801, 201802, 201803, 201804, 201805, 201806, 201807, 201808], \"y\": [66236.56999999995, 149032.97000000015, 222262.34999999954, 192368.31999999995, 306364.7600000009, 265809.95000000007, 338734.80000000267, 357308.77000000345, 367023.47000000265, 385340.3300000029, 645043.8600000045, 482725.20000000263, 632935.4900000057, 581503.740000005, 623649.369999997, 604976.3300000004, 598449.3599999987, 533427.2999999966, 541322.8299999987, 546335.7599999981]}],\n",
       "                        {\"template\": {\"data\": {\"bar\": [{\"error_x\": {\"color\": \"#2a3f5f\"}, \"error_y\": {\"color\": \"#2a3f5f\"}, \"marker\": {\"line\": {\"color\": \"#E5ECF6\", \"width\": 0.5}}, \"type\": \"bar\"}], \"barpolar\": [{\"marker\": {\"line\": {\"color\": \"#E5ECF6\", \"width\": 0.5}}, \"type\": \"barpolar\"}], \"carpet\": [{\"aaxis\": {\"endlinecolor\": \"#2a3f5f\", \"gridcolor\": \"white\", \"linecolor\": \"white\", \"minorgridcolor\": \"white\", \"startlinecolor\": \"#2a3f5f\"}, \"baxis\": {\"endlinecolor\": \"#2a3f5f\", \"gridcolor\": \"white\", \"linecolor\": \"white\", \"minorgridcolor\": \"white\", \"startlinecolor\": \"#2a3f5f\"}, \"type\": \"carpet\"}], \"choropleth\": [{\"colorbar\": {\"outlinewidth\": 0, \"ticks\": \"\"}, \"type\": \"choropleth\"}], \"contour\": [{\"colorbar\": {\"outlinewidth\": 0, \"ticks\": \"\"}, \"colorscale\": [[0.0, \"#0d0887\"], [0.1111111111111111, \"#46039f\"], [0.2222222222222222, \"#7201a8\"], [0.3333333333333333, \"#9c179e\"], [0.4444444444444444, \"#bd3786\"], [0.5555555555555556, \"#d8576b\"], [0.6666666666666666, \"#ed7953\"], [0.7777777777777778, \"#fb9f3a\"], [0.8888888888888888, \"#fdca26\"], [1.0, \"#f0f921\"]], \"type\": \"contour\"}], \"contourcarpet\": [{\"colorbar\": {\"outlinewidth\": 0, \"ticks\": \"\"}, \"type\": \"contourcarpet\"}], \"heatmap\": [{\"colorbar\": {\"outlinewidth\": 0, \"ticks\": \"\"}, \"colorscale\": [[0.0, \"#0d0887\"], [0.1111111111111111, \"#46039f\"], [0.2222222222222222, \"#7201a8\"], [0.3333333333333333, \"#9c179e\"], [0.4444444444444444, \"#bd3786\"], [0.5555555555555556, \"#d8576b\"], [0.6666666666666666, \"#ed7953\"], [0.7777777777777778, \"#fb9f3a\"], [0.8888888888888888, \"#fdca26\"], [1.0, \"#f0f921\"]], \"type\": \"heatmap\"}], \"heatmapgl\": [{\"colorbar\": {\"outlinewidth\": 0, \"ticks\": \"\"}, \"colorscale\": [[0.0, \"#0d0887\"], [0.1111111111111111, \"#46039f\"], [0.2222222222222222, \"#7201a8\"], [0.3333333333333333, \"#9c179e\"], [0.4444444444444444, \"#bd3786\"], [0.5555555555555556, \"#d8576b\"], [0.6666666666666666, \"#ed7953\"], [0.7777777777777778, \"#fb9f3a\"], [0.8888888888888888, \"#fdca26\"], [1.0, \"#f0f921\"]], \"type\": \"heatmapgl\"}], \"histogram\": [{\"marker\": {\"colorbar\": {\"outlinewidth\": 0, \"ticks\": \"\"}}, \"type\": \"histogram\"}], \"histogram2d\": [{\"colorbar\": {\"outlinewidth\": 0, \"ticks\": \"\"}, \"colorscale\": [[0.0, \"#0d0887\"], [0.1111111111111111, \"#46039f\"], [0.2222222222222222, \"#7201a8\"], [0.3333333333333333, \"#9c179e\"], [0.4444444444444444, \"#bd3786\"], [0.5555555555555556, \"#d8576b\"], [0.6666666666666666, \"#ed7953\"], [0.7777777777777778, \"#fb9f3a\"], [0.8888888888888888, \"#fdca26\"], [1.0, \"#f0f921\"]], \"type\": \"histogram2d\"}], \"histogram2dcontour\": [{\"colorbar\": {\"outlinewidth\": 0, \"ticks\": \"\"}, \"colorscale\": [[0.0, \"#0d0887\"], [0.1111111111111111, \"#46039f\"], [0.2222222222222222, \"#7201a8\"], [0.3333333333333333, \"#9c179e\"], [0.4444444444444444, \"#bd3786\"], [0.5555555555555556, \"#d8576b\"], [0.6666666666666666, \"#ed7953\"], [0.7777777777777778, \"#fb9f3a\"], [0.8888888888888888, \"#fdca26\"], [1.0, \"#f0f921\"]], \"type\": \"histogram2dcontour\"}], \"mesh3d\": [{\"colorbar\": {\"outlinewidth\": 0, \"ticks\": \"\"}, \"type\": \"mesh3d\"}], \"parcoords\": [{\"line\": {\"colorbar\": {\"outlinewidth\": 0, \"ticks\": \"\"}}, \"type\": \"parcoords\"}], \"pie\": [{\"automargin\": true, \"type\": \"pie\"}], \"scatter\": [{\"marker\": {\"colorbar\": {\"outlinewidth\": 0, \"ticks\": \"\"}}, \"type\": \"scatter\"}], \"scatter3d\": [{\"line\": {\"colorbar\": {\"outlinewidth\": 0, \"ticks\": \"\"}}, \"marker\": {\"colorbar\": {\"outlinewidth\": 0, \"ticks\": \"\"}}, \"type\": \"scatter3d\"}], \"scattercarpet\": [{\"marker\": {\"colorbar\": {\"outlinewidth\": 0, \"ticks\": \"\"}}, \"type\": \"scattercarpet\"}], \"scattergeo\": [{\"marker\": {\"colorbar\": {\"outlinewidth\": 0, \"ticks\": \"\"}}, \"type\": \"scattergeo\"}], \"scattergl\": [{\"marker\": {\"colorbar\": {\"outlinewidth\": 0, \"ticks\": \"\"}}, \"type\": \"scattergl\"}], \"scattermapbox\": [{\"marker\": {\"colorbar\": {\"outlinewidth\": 0, \"ticks\": \"\"}}, \"type\": \"scattermapbox\"}], \"scatterpolar\": [{\"marker\": {\"colorbar\": {\"outlinewidth\": 0, \"ticks\": \"\"}}, \"type\": \"scatterpolar\"}], \"scatterpolargl\": [{\"marker\": {\"colorbar\": {\"outlinewidth\": 0, \"ticks\": \"\"}}, \"type\": \"scatterpolargl\"}], \"scatterternary\": [{\"marker\": {\"colorbar\": {\"outlinewidth\": 0, \"ticks\": \"\"}}, \"type\": \"scatterternary\"}], \"surface\": [{\"colorbar\": {\"outlinewidth\": 0, \"ticks\": \"\"}, \"colorscale\": [[0.0, \"#0d0887\"], [0.1111111111111111, \"#46039f\"], [0.2222222222222222, \"#7201a8\"], [0.3333333333333333, \"#9c179e\"], [0.4444444444444444, \"#bd3786\"], [0.5555555555555556, \"#d8576b\"], [0.6666666666666666, \"#ed7953\"], [0.7777777777777778, \"#fb9f3a\"], [0.8888888888888888, \"#fdca26\"], [1.0, \"#f0f921\"]], \"type\": \"surface\"}], \"table\": [{\"cells\": {\"fill\": {\"color\": \"#EBF0F8\"}, \"line\": {\"color\": \"white\"}}, \"header\": {\"fill\": {\"color\": \"#C8D4E3\"}, \"line\": {\"color\": \"white\"}}, \"type\": \"table\"}]}, \"layout\": {\"annotationdefaults\": {\"arrowcolor\": \"#2a3f5f\", \"arrowhead\": 0, \"arrowwidth\": 1}, \"coloraxis\": {\"colorbar\": {\"outlinewidth\": 0, \"ticks\": \"\"}}, \"colorscale\": {\"diverging\": [[0, \"#8e0152\"], [0.1, \"#c51b7d\"], [0.2, \"#de77ae\"], [0.3, \"#f1b6da\"], [0.4, \"#fde0ef\"], [0.5, \"#f7f7f7\"], [0.6, \"#e6f5d0\"], [0.7, \"#b8e186\"], [0.8, \"#7fbc41\"], [0.9, \"#4d9221\"], [1, \"#276419\"]], \"sequential\": [[0.0, \"#0d0887\"], [0.1111111111111111, \"#46039f\"], [0.2222222222222222, \"#7201a8\"], [0.3333333333333333, \"#9c179e\"], [0.4444444444444444, \"#bd3786\"], [0.5555555555555556, \"#d8576b\"], [0.6666666666666666, \"#ed7953\"], [0.7777777777777778, \"#fb9f3a\"], [0.8888888888888888, \"#fdca26\"], [1.0, \"#f0f921\"]], \"sequentialminus\": [[0.0, \"#0d0887\"], [0.1111111111111111, \"#46039f\"], [0.2222222222222222, \"#7201a8\"], [0.3333333333333333, \"#9c179e\"], [0.4444444444444444, \"#bd3786\"], [0.5555555555555556, \"#d8576b\"], [0.6666666666666666, \"#ed7953\"], [0.7777777777777778, \"#fb9f3a\"], [0.8888888888888888, \"#fdca26\"], [1.0, \"#f0f921\"]]}, \"colorway\": [\"#636efa\", \"#EF553B\", \"#00cc96\", \"#ab63fa\", \"#FFA15A\", \"#19d3f3\", \"#FF6692\", \"#B6E880\", \"#FF97FF\", \"#FECB52\"], \"font\": {\"color\": \"#2a3f5f\"}, \"geo\": {\"bgcolor\": \"white\", \"lakecolor\": \"white\", \"landcolor\": \"#E5ECF6\", \"showlakes\": true, \"showland\": true, \"subunitcolor\": \"white\"}, \"hoverlabel\": {\"align\": \"left\"}, \"hovermode\": \"closest\", \"mapbox\": {\"style\": \"light\"}, \"paper_bgcolor\": \"white\", \"plot_bgcolor\": \"#E5ECF6\", \"polar\": {\"angularaxis\": {\"gridcolor\": \"white\", \"linecolor\": \"white\", \"ticks\": \"\"}, \"bgcolor\": \"#E5ECF6\", \"radialaxis\": {\"gridcolor\": \"white\", \"linecolor\": \"white\", \"ticks\": \"\"}}, \"scene\": {\"xaxis\": {\"backgroundcolor\": \"#E5ECF6\", \"gridcolor\": \"white\", \"gridwidth\": 2, \"linecolor\": \"white\", \"showbackground\": true, \"ticks\": \"\", \"zerolinecolor\": \"white\"}, \"yaxis\": {\"backgroundcolor\": \"#E5ECF6\", \"gridcolor\": \"white\", \"gridwidth\": 2, \"linecolor\": \"white\", \"showbackground\": true, \"ticks\": \"\", \"zerolinecolor\": \"white\"}, \"zaxis\": {\"backgroundcolor\": \"#E5ECF6\", \"gridcolor\": \"white\", \"gridwidth\": 2, \"linecolor\": \"white\", \"showbackground\": true, \"ticks\": \"\", \"zerolinecolor\": \"white\"}}, \"shapedefaults\": {\"line\": {\"color\": \"#2a3f5f\"}}, \"ternary\": {\"aaxis\": {\"gridcolor\": \"white\", \"linecolor\": \"white\", \"ticks\": \"\"}, \"baxis\": {\"gridcolor\": \"white\", \"linecolor\": \"white\", \"ticks\": \"\"}, \"bgcolor\": \"#E5ECF6\", \"caxis\": {\"gridcolor\": \"white\", \"linecolor\": \"white\", \"ticks\": \"\"}}, \"title\": {\"x\": 0.05}, \"xaxis\": {\"automargin\": true, \"gridcolor\": \"white\", \"linecolor\": \"white\", \"ticks\": \"\", \"title\": {\"standoff\": 15}, \"zerolinecolor\": \"white\", \"zerolinewidth\": 2}, \"yaxis\": {\"automargin\": true, \"gridcolor\": \"white\", \"linecolor\": \"white\", \"ticks\": \"\", \"title\": {\"standoff\": 15}, \"zerolinecolor\": \"white\", \"zerolinewidth\": 2}}}, \"title\": {\"text\": \"New vs Existing\"}, \"xaxis\": {\"type\": \"category\"}},\n",
       "                        {\"responsive\": true}\n",
       "                    ).then(function(){\n",
       "                            \n",
       "var gd = document.getElementById('27d372f3-a446-49e6-b7f0-875483efe264');\n",
       "var x = new MutationObserver(function (mutations, observer) {{\n",
       "        var display = window.getComputedStyle(gd).display;\n",
       "        if (!display || display === 'none') {{\n",
       "            console.log([gd, 'removed!']);\n",
       "            Plotly.purge(gd);\n",
       "            observer.disconnect();\n",
       "        }}\n",
       "}});\n",
       "\n",
       "// Listen for the removal of the full notebook cells\n",
       "var notebookContainer = gd.closest('#notebook-container');\n",
       "if (notebookContainer) {{\n",
       "    x.observe(notebookContainer, {childList: true});\n",
       "}}\n",
       "\n",
       "// Listen for the clearing of the current output cell\n",
       "var outputEl = gd.closest('.output');\n",
       "if (outputEl) {{\n",
       "    x.observe(outputEl, {childList: true});\n",
       "}}\n",
       "\n",
       "                        })\n",
       "                };\n",
       "                });\n",
       "            </script>\n",
       "        </div>"
      ]
     },
     "metadata": {},
     "output_type": "display_data"
    }
   ],
   "source": [
    "#plot the distribution of revenue with respect to usertype \n",
    "scatter_data = [\n",
    "    go.Scatter(\n",
    "        x= x.loc[x['user_type'] == 'Existing']['Month'],\n",
    "        y= x.loc[x['user_type'] == 'Existing']['Revenue'],\n",
    "        name = 'Existing'\n",
    "    ),\n",
    "    go.Scatter(\n",
    "        x= x.loc[x['user_type'] == 'New']['Month'],\n",
    "        y= x.loc[x['user_type'] == 'New']['Revenue'],\n",
    "        name = 'New'\n",
    "    )\n",
    "]\n",
    "\n",
    "scatter_layout = go.Layout(\n",
    "        xaxis={\"type\": \"category\"},\n",
    "        title='New vs Existing'\n",
    "    )\n",
    "fig = go.Figure(data=scatter_data, layout=scatter_layout)\n",
    "pyoff.iplot(fig)"
   ]
  },
  {
   "cell_type": "markdown",
   "metadata": {},
   "source": [
    "new customers revenue contribution had a consistent growth while the revenue contribution from existing customers was negligible. "
   ]
  },
  {
   "cell_type": "code",
   "execution_count": 51,
   "metadata": {},
   "outputs": [
    {
     "data": {
      "text/plain": [
       "<matplotlib.axes._subplots.AxesSubplot at 0x26fb4b92278>"
      ]
     },
     "execution_count": 51,
     "metadata": {},
     "output_type": "execute_result"
    },
    {
     "data": {
      "image/png": "[encoded data removed]",
      "text/plain": [
       "<Figure size 1152x432 with 1 Axes>"
      ]
     },
     "metadata": {},
     "output_type": "display_data"
    }
   ],
   "source": [
    "#monthly Avg_revenue per order \n",
    "order_avg = merged.groupby('Month')['Revenue'].mean().reset_index()\n",
    "\n",
    "#creating a barplot for distribution \n",
    "sns.set(style=\"whitegrid\")\n",
    "plt.figure(figsize = (16,6))\n",
    "sns.barplot(x=\"Month\", y=\"Revenue\", data=order_avg)"
   ]
  },
  {
   "cell_type": "markdown",
   "metadata": {},
   "source": [
    "Monthly average order size is consistent "
   ]
  },
  {
   "cell_type": "code",
   "execution_count": 52,
   "metadata": {},
   "outputs": [],
   "source": [
    "#creating new column for recency \n",
    "merged['Recency'] = (merged['order_purchase_timestamp'].max() - merged['order_purchase_timestamp']).dt.days"
   ]
  },
  {
   "cell_type": "code",
   "execution_count": 53,
   "metadata": {},
   "outputs": [
    {
     "data": {
      "text/plain": [
       "count    95969.000000\n",
       "mean       239.549875\n",
       "std        152.738176\n",
       "min          0.000000\n",
       "25%        116.000000\n",
       "50%        220.000000\n",
       "75%        349.000000\n",
       "max        695.000000\n",
       "Name: Recency, dtype: float64"
      ]
     },
     "execution_count": 53,
     "metadata": {},
     "output_type": "execute_result"
    }
   ],
   "source": [
    "#Analyzing recency\n",
    "merged['Recency'].describe()"
   ]
  },
  {
   "cell_type": "code",
   "execution_count": 54,
   "metadata": {},
   "outputs": [
    {
     "data": {
      "text/plain": [
       "<matplotlib.axes._subplots.AxesSubplot at 0x26fbc9c8be0>"
      ]
     },
     "execution_count": 54,
     "metadata": {},
     "output_type": "execute_result"
    },
    {
     "data": {
      "image/png": "[encoded data removed]",
      "text/plain": [
       "<Figure size 1152x432 with 1 Axes>"
      ]
     },
     "metadata": {},
     "output_type": "display_data"
    }
   ],
   "source": [
    "#recency distribution \n",
    "sns.set(style=\"whitegrid\")\n",
    "plt.figure(figsize = (16,6))\n",
    "sns.distplot(merged['Recency'])\n"
   ]
  },
  {
   "cell_type": "markdown",
   "metadata": {},
   "source": [
    "### ----5  Creating a baseline model ----"
   ]
  },
  {
   "cell_type": "code",
   "execution_count": 55,
   "metadata": {},
   "outputs": [
    {
     "data": {
      "text/html": [
       "<div>\n",
       "<style scoped>\n",
       "    .dataframe tbody tr th:only-of-type {\n",
       "        vertical-align: middle;\n",
       "    }\n",
       "\n",
       "    .dataframe tbody tr th {\n",
       "        vertical-align: top;\n",
       "    }\n",
       "\n",
       "    .dataframe thead th {\n",
       "        text-align: right;\n",
       "    }\n",
       "</style>\n",
       "<table border=\"1\" class=\"dataframe\">\n",
       "  <thead>\n",
       "    <tr style=\"text-align: right;\">\n",
       "      <th></th>\n",
       "      <th>index</th>\n",
       "      <th>order_id</th>\n",
       "      <th>order_item_id</th>\n",
       "      <th>product_category_name_english</th>\n",
       "      <th>customer_id</th>\n",
       "      <th>order_purchase_timestamp</th>\n",
       "      <th>customer_unique_id</th>\n",
       "      <th>Revenue</th>\n",
       "      <th>Month</th>\n",
       "      <th>order_item</th>\n",
       "      <th>firstpurchasedate</th>\n",
       "      <th>First_Month</th>\n",
       "      <th>user_type</th>\n",
       "      <th>Recency</th>\n",
       "    </tr>\n",
       "  </thead>\n",
       "  <tbody>\n",
       "    <tr>\n",
       "      <th>0</th>\n",
       "      <td>0</td>\n",
       "      <td>00010242fe8c5a6d1ba2dd792cb16214</td>\n",
       "      <td>1</td>\n",
       "      <td>cool_stuff</td>\n",
       "      <td>3ce436f183e68e07877b285a838db11a</td>\n",
       "      <td>2017-09-13 08:59:02</td>\n",
       "      <td>871766c5855e863f6eccc05f988b23cb</td>\n",
       "      <td>72.19</td>\n",
       "      <td>201709</td>\n",
       "      <td>100010242fe8c5a6d1ba2dd792cb16214</td>\n",
       "      <td>2017-09-13 08:59:02</td>\n",
       "      <td>201709</td>\n",
       "      <td>New</td>\n",
       "      <td>350</td>\n",
       "    </tr>\n",
       "    <tr>\n",
       "      <th>1</th>\n",
       "      <td>3</td>\n",
       "      <td>00024acbcdf0a6daa1e931b038114c75</td>\n",
       "      <td>1</td>\n",
       "      <td>perfumery</td>\n",
       "      <td>d4eb9395c8c0431ee92fce09860c5a06</td>\n",
       "      <td>2018-08-08 10:00:35</td>\n",
       "      <td>af861d436cfc08b2c2ddefd0ba074622</td>\n",
       "      <td>25.78</td>\n",
       "      <td>201808</td>\n",
       "      <td>100024acbcdf0a6daa1e931b038114c75</td>\n",
       "      <td>2018-08-08 10:00:35</td>\n",
       "      <td>201808</td>\n",
       "      <td>New</td>\n",
       "      <td>21</td>\n",
       "    </tr>\n",
       "  </tbody>\n",
       "</table>\n",
       "</div>"
      ],
      "text/plain": [
       "   index                          order_id  order_item_id  \\\n",
       "0      0  00010242fe8c5a6d1ba2dd792cb16214              1   \n",
       "1      3  00024acbcdf0a6daa1e931b038114c75              1   \n",
       "\n",
       "  product_category_name_english                       customer_id  \\\n",
       "0                    cool_stuff  3ce436f183e68e07877b285a838db11a   \n",
       "1                     perfumery  d4eb9395c8c0431ee92fce09860c5a06   \n",
       "\n",
       "  order_purchase_timestamp                customer_unique_id  Revenue   Month  \\\n",
       "0      2017-09-13 08:59:02  871766c5855e863f6eccc05f988b23cb    72.19  201709   \n",
       "1      2018-08-08 10:00:35  af861d436cfc08b2c2ddefd0ba074622    25.78  201808   \n",
       "\n",
       "                          order_item   firstpurchasedate  First_Month  \\\n",
       "0  100010242fe8c5a6d1ba2dd792cb16214 2017-09-13 08:59:02       201709   \n",
       "1  100024acbcdf0a6daa1e931b038114c75 2018-08-08 10:00:35       201808   \n",
       "\n",
       "  user_type  Recency  \n",
       "0       New      350  \n",
       "1       New       21  "
      ]
     },
     "execution_count": 55,
     "metadata": {},
     "output_type": "execute_result"
    }
   ],
   "source": [
    "merged.head(2)"
   ]
  },
  {
   "cell_type": "code",
   "execution_count": 56,
   "metadata": {},
   "outputs": [],
   "source": [
    "#Removing few features\n",
    "tree = merged.drop(['order_item','index','order_id','order_item_id','customer_id','order_purchase_timestamp','customer_unique_id','Month','First_Month','firstpurchasedate'],axis = 1)"
   ]
  },
  {
   "cell_type": "code",
   "execution_count": 57,
   "metadata": {},
   "outputs": [],
   "source": [
    "#converting all categorical features into numeric\n",
    "tree = pd.get_dummies(tree,drop_first = True)"
   ]
  },
  {
   "cell_type": "code",
   "execution_count": 58,
   "metadata": {},
   "outputs": [],
   "source": [
    "# Split Train/Test Set\n",
    "Tree_train, Tree_test, rev_train, rev_test = train_test_split(tree.drop([\"Revenue\"], axis=1), tree[\"Revenue\"],random_state=10, test_size=0.25)"
   ]
  },
  {
   "cell_type": "code",
   "execution_count": 59,
   "metadata": {},
   "outputs": [
    {
     "data": {
      "text/plain": [
       "(71976, 73)"
      ]
     },
     "execution_count": 59,
     "metadata": {},
     "output_type": "execute_result"
    }
   ],
   "source": [
    "# Examine shape of the dataset\n",
    "Tree_train.shape"
   ]
  },
  {
   "cell_type": "code",
   "execution_count": 60,
   "metadata": {},
   "outputs": [
    {
     "data": {
      "text/plain": [
       "48173     86.40\n",
       "12479     46.75\n",
       "56644    116.94\n",
       "70179     25.75\n",
       "67632     64.03\n",
       "Name: Revenue, dtype: float64"
      ]
     },
     "execution_count": 60,
     "metadata": {},
     "output_type": "execute_result"
    }
   ],
   "source": [
    "rev_train.head()"
   ]
  },
  {
   "cell_type": "code",
   "execution_count": 61,
   "metadata": {},
   "outputs": [
    {
     "data": {
      "text/plain": [
       "DecisionTreeRegressor(criterion='mse', max_depth=2, max_features=None,\n",
       "           max_leaf_nodes=None, min_impurity_decrease=0.0,\n",
       "           min_impurity_split=None, min_samples_leaf=1,\n",
       "           min_samples_split=2, min_weight_fraction_leaf=0.0,\n",
       "           presort=False, random_state=None, splitter='best')"
      ]
     },
     "execution_count": 61,
     "metadata": {},
     "output_type": "execute_result"
    }
   ],
   "source": [
    "#fitting a decision tree model\n",
    "tree_reg = DecisionTreeRegressor(criterion = 'mse' , max_depth=2)\n",
    "tree_reg.fit(Tree_train,rev_train)"
   ]
  },
  {
   "cell_type": "code",
   "execution_count": 62,
   "metadata": {},
   "outputs": [],
   "source": [
    "#Compute errors on train model\n",
    "r1 = rev_train - tree_reg.predict(Tree_train)"
   ]
  },
  {
   "cell_type": "code",
   "execution_count": 63,
   "metadata": {},
   "outputs": [
    {
     "data": {
      "text/plain": [
       "DecisionTreeRegressor(criterion='mse', max_depth=2, max_features=None,\n",
       "           max_leaf_nodes=None, min_impurity_decrease=0.0,\n",
       "           min_impurity_split=None, min_samples_leaf=1,\n",
       "           min_samples_split=2, min_weight_fraction_leaf=0.0,\n",
       "           presort=False, random_state=None, splitter='best')"
      ]
     },
     "execution_count": 63,
     "metadata": {},
     "output_type": "execute_result"
    }
   ],
   "source": [
    "#creating a second tree \n",
    "# Fit second model\n",
    "tree_reg2 = DecisionTreeRegressor(max_depth=2)\n",
    "tree_reg2.fit(Tree_train,r1)"
   ]
  },
  {
   "cell_type": "code",
   "execution_count": 64,
   "metadata": {},
   "outputs": [],
   "source": [
    "#Compute errors on train model\n",
    "r2 = r1 - tree_reg2.predict(Tree_train)"
   ]
  },
  {
   "cell_type": "code",
   "execution_count": 65,
   "metadata": {},
   "outputs": [],
   "source": [
    "# Add up the predictions of each tree model, which is our ensemble of two trees\n",
    "y_pred = sum(tree.predict(Tree_train) for tree in (tree_reg, tree_reg2))"
   ]
  },
  {
   "cell_type": "code",
   "execution_count": 66,
   "metadata": {},
   "outputs": [],
   "source": [
    "#creating empty dataframe\n",
    "pred  = pd.DataFrame()"
   ]
  },
  {
   "cell_type": "code",
   "execution_count": 67,
   "metadata": {},
   "outputs": [],
   "source": [
    "pred['Actual'] = rev_train[0:20]"
   ]
  },
  {
   "cell_type": "code",
   "execution_count": 68,
   "metadata": {},
   "outputs": [
    {
     "data": {
      "text/html": [
       "<div>\n",
       "<style scoped>\n",
       "    .dataframe tbody tr th:only-of-type {\n",
       "        vertical-align: middle;\n",
       "    }\n",
       "\n",
       "    .dataframe tbody tr th {\n",
       "        vertical-align: top;\n",
       "    }\n",
       "\n",
       "    .dataframe thead th {\n",
       "        text-align: right;\n",
       "    }\n",
       "</style>\n",
       "<table border=\"1\" class=\"dataframe\">\n",
       "  <thead>\n",
       "    <tr style=\"text-align: right;\">\n",
       "      <th></th>\n",
       "      <th>Actual</th>\n",
       "      <th>model_1</th>\n",
       "      <th>model_2</th>\n",
       "      <th>Ensemble</th>\n",
       "    </tr>\n",
       "  </thead>\n",
       "  <tbody>\n",
       "    <tr>\n",
       "      <th>48173</th>\n",
       "      <td>86.40</td>\n",
       "      <td>92.874433</td>\n",
       "      <td>-1.557954</td>\n",
       "      <td>91.316478</td>\n",
       "    </tr>\n",
       "    <tr>\n",
       "      <th>12479</th>\n",
       "      <td>46.75</td>\n",
       "      <td>92.874433</td>\n",
       "      <td>-1.557954</td>\n",
       "      <td>91.316478</td>\n",
       "    </tr>\n",
       "    <tr>\n",
       "      <th>56644</th>\n",
       "      <td>116.94</td>\n",
       "      <td>92.874433</td>\n",
       "      <td>-1.557954</td>\n",
       "      <td>91.316478</td>\n",
       "    </tr>\n",
       "    <tr>\n",
       "      <th>70179</th>\n",
       "      <td>25.75</td>\n",
       "      <td>92.874433</td>\n",
       "      <td>-1.557954</td>\n",
       "      <td>91.316478</td>\n",
       "    </tr>\n",
       "    <tr>\n",
       "      <th>67632</th>\n",
       "      <td>64.03</td>\n",
       "      <td>92.874433</td>\n",
       "      <td>-1.557954</td>\n",
       "      <td>91.316478</td>\n",
       "    </tr>\n",
       "    <tr>\n",
       "      <th>62565</th>\n",
       "      <td>153.80</td>\n",
       "      <td>92.874433</td>\n",
       "      <td>-1.557954</td>\n",
       "      <td>91.316478</td>\n",
       "    </tr>\n",
       "    <tr>\n",
       "      <th>23663</th>\n",
       "      <td>127.54</td>\n",
       "      <td>92.874433</td>\n",
       "      <td>-1.557954</td>\n",
       "      <td>91.316478</td>\n",
       "    </tr>\n",
       "    <tr>\n",
       "      <th>61426</th>\n",
       "      <td>72.43</td>\n",
       "      <td>92.874433</td>\n",
       "      <td>-1.557954</td>\n",
       "      <td>91.316478</td>\n",
       "    </tr>\n",
       "    <tr>\n",
       "      <th>39918</th>\n",
       "      <td>78.65</td>\n",
       "      <td>92.874433</td>\n",
       "      <td>-1.557954</td>\n",
       "      <td>91.316478</td>\n",
       "    </tr>\n",
       "    <tr>\n",
       "      <th>74710</th>\n",
       "      <td>69.33</td>\n",
       "      <td>92.874433</td>\n",
       "      <td>-1.557954</td>\n",
       "      <td>91.316478</td>\n",
       "    </tr>\n",
       "    <tr>\n",
       "      <th>51620</th>\n",
       "      <td>112.71</td>\n",
       "      <td>92.874433</td>\n",
       "      <td>-1.557954</td>\n",
       "      <td>91.316478</td>\n",
       "    </tr>\n",
       "    <tr>\n",
       "      <th>85807</th>\n",
       "      <td>171.19</td>\n",
       "      <td>92.874433</td>\n",
       "      <td>-1.557954</td>\n",
       "      <td>91.316478</td>\n",
       "    </tr>\n",
       "    <tr>\n",
       "      <th>27536</th>\n",
       "      <td>150.15</td>\n",
       "      <td>92.874433</td>\n",
       "      <td>-1.557954</td>\n",
       "      <td>91.316478</td>\n",
       "    </tr>\n",
       "    <tr>\n",
       "      <th>29514</th>\n",
       "      <td>64.85</td>\n",
       "      <td>92.874433</td>\n",
       "      <td>-1.557954</td>\n",
       "      <td>91.316478</td>\n",
       "    </tr>\n",
       "    <tr>\n",
       "      <th>33809</th>\n",
       "      <td>88.80</td>\n",
       "      <td>92.874433</td>\n",
       "      <td>-1.557954</td>\n",
       "      <td>91.316478</td>\n",
       "    </tr>\n",
       "    <tr>\n",
       "      <th>89465</th>\n",
       "      <td>42.40</td>\n",
       "      <td>92.874433</td>\n",
       "      <td>-1.557954</td>\n",
       "      <td>91.316478</td>\n",
       "    </tr>\n",
       "    <tr>\n",
       "      <th>14461</th>\n",
       "      <td>33.00</td>\n",
       "      <td>52.274259</td>\n",
       "      <td>-1.557954</td>\n",
       "      <td>50.716305</td>\n",
       "    </tr>\n",
       "    <tr>\n",
       "      <th>17473</th>\n",
       "      <td>34.96</td>\n",
       "      <td>52.274259</td>\n",
       "      <td>-1.557954</td>\n",
       "      <td>50.716305</td>\n",
       "    </tr>\n",
       "    <tr>\n",
       "      <th>95873</th>\n",
       "      <td>164.10</td>\n",
       "      <td>92.874433</td>\n",
       "      <td>-1.557954</td>\n",
       "      <td>91.316478</td>\n",
       "    </tr>\n",
       "    <tr>\n",
       "      <th>61689</th>\n",
       "      <td>103.26</td>\n",
       "      <td>92.874433</td>\n",
       "      <td>-1.557954</td>\n",
       "      <td>91.316478</td>\n",
       "    </tr>\n",
       "  </tbody>\n",
       "</table>\n",
       "</div>"
      ],
      "text/plain": [
       "       Actual    model_1   model_2   Ensemble\n",
       "48173   86.40  92.874433 -1.557954  91.316478\n",
       "12479   46.75  92.874433 -1.557954  91.316478\n",
       "56644  116.94  92.874433 -1.557954  91.316478\n",
       "70179   25.75  92.874433 -1.557954  91.316478\n",
       "67632   64.03  92.874433 -1.557954  91.316478\n",
       "62565  153.80  92.874433 -1.557954  91.316478\n",
       "23663  127.54  92.874433 -1.557954  91.316478\n",
       "61426   72.43  92.874433 -1.557954  91.316478\n",
       "39918   78.65  92.874433 -1.557954  91.316478\n",
       "74710   69.33  92.874433 -1.557954  91.316478\n",
       "51620  112.71  92.874433 -1.557954  91.316478\n",
       "85807  171.19  92.874433 -1.557954  91.316478\n",
       "27536  150.15  92.874433 -1.557954  91.316478\n",
       "29514   64.85  92.874433 -1.557954  91.316478\n",
       "33809   88.80  92.874433 -1.557954  91.316478\n",
       "89465   42.40  92.874433 -1.557954  91.316478\n",
       "14461   33.00  52.274259 -1.557954  50.716305\n",
       "17473   34.96  52.274259 -1.557954  50.716305\n",
       "95873  164.10  92.874433 -1.557954  91.316478\n",
       "61689  103.26  92.874433 -1.557954  91.316478"
      ]
     },
     "execution_count": 68,
     "metadata": {},
     "output_type": "execute_result"
    }
   ],
   "source": [
    "# Create dataframe of all predictions\n",
    "pred['model_1'] = tree_reg.predict(Tree_train)[0:20]\n",
    "pred['model_2'] = tree_reg2.predict(Tree_train)[0:20]\n",
    "pred['Ensemble'] =y_pred[0:20]\n",
    "\n",
    "# Display predictions\n",
    "pred"
   ]
  },
  {
   "cell_type": "code",
   "execution_count": 69,
   "metadata": {},
   "outputs": [
    {
     "data": {
      "text/html": [
       "<div>\n",
       "<style scoped>\n",
       "    .dataframe tbody tr th:only-of-type {\n",
       "        vertical-align: middle;\n",
       "    }\n",
       "\n",
       "    .dataframe tbody tr th {\n",
       "        vertical-align: top;\n",
       "    }\n",
       "\n",
       "    .dataframe thead th {\n",
       "        text-align: right;\n",
       "    }\n",
       "</style>\n",
       "<table border=\"1\" class=\"dataframe\">\n",
       "  <thead>\n",
       "    <tr style=\"text-align: right;\">\n",
       "      <th></th>\n",
       "      <th>Average Error</th>\n",
       "    </tr>\n",
       "    <tr>\n",
       "      <th>Tree Count</th>\n",
       "      <th></th>\n",
       "    </tr>\n",
       "  </thead>\n",
       "  <tbody>\n",
       "    <tr>\n",
       "      <th>1</th>\n",
       "      <td>62.747418</td>\n",
       "    </tr>\n",
       "    <tr>\n",
       "      <th>2</th>\n",
       "      <td>43.924619</td>\n",
       "    </tr>\n",
       "    <tr>\n",
       "      <th>3</th>\n",
       "      <td>30.748293</td>\n",
       "    </tr>\n",
       "    <tr>\n",
       "      <th>4</th>\n",
       "      <td>21.524089</td>\n",
       "    </tr>\n",
       "    <tr>\n",
       "      <th>5</th>\n",
       "      <td>15.067433</td>\n",
       "    </tr>\n",
       "    <tr>\n",
       "      <th>6</th>\n",
       "      <td>10.547623</td>\n",
       "    </tr>\n",
       "    <tr>\n",
       "      <th>7</th>\n",
       "      <td>7.383321</td>\n",
       "    </tr>\n",
       "    <tr>\n",
       "      <th>8</th>\n",
       "      <td>5.168529</td>\n",
       "    </tr>\n",
       "    <tr>\n",
       "      <th>9</th>\n",
       "      <td>3.618196</td>\n",
       "    </tr>\n",
       "    <tr>\n",
       "      <th>10</th>\n",
       "      <td>2.532704</td>\n",
       "    </tr>\n",
       "  </tbody>\n",
       "</table>\n",
       "</div>"
      ],
      "text/plain": [
       "            Average Error\n",
       "Tree Count               \n",
       "1               62.747418\n",
       "2               43.924619\n",
       "3               30.748293\n",
       "4               21.524089\n",
       "5               15.067433\n",
       "6               10.547623\n",
       "7                7.383321\n",
       "8                5.168529\n",
       "9                3.618196\n",
       "10               2.532704"
      ]
     },
     "execution_count": 69,
     "metadata": {},
     "output_type": "execute_result"
    }
   ],
   "source": [
    "#creating a dataframe to observe the error for various tree's\n",
    "errors = []\n",
    "for n_estimators in [1,2,3,4,5,6,7,8,9,10]:\n",
    "    clf = xgb.XGBRegressor(max_depth=2, n_estimators=n_estimators)\n",
    "    clf.fit(Tree_train, rev_train, verbose=False)\n",
    "    errors.append(\n",
    "        {\n",
    "            'Tree Count': n_estimators,\n",
    "            'Average Error': np.average(rev_train - clf.predict(Tree_train)),\n",
    "        })\n",
    "    \n",
    "n_estimators_lr = pd.DataFrame(errors).set_index('Tree Count').sort_index()\n",
    "n_estimators_lr"
   ]
  },
  {
   "cell_type": "code",
   "execution_count": 70,
   "metadata": {},
   "outputs": [
    {
     "data": {
      "image/png": "[encoded data removed]",
      "text/plain": [
       "<Figure size 864x864 with 1 Axes>"
      ]
     },
     "metadata": {},
     "output_type": "display_data"
    }
   ],
   "source": [
    "# Plot basic feature importance chart\n",
    "fig, ax = plt.subplots(figsize=(12,12))\n",
    "xgb.plot_importance(clf, height=0.5, ax=ax)\n",
    "plt.show()"
   ]
  },
  {
   "cell_type": "markdown",
   "metadata": {},
   "source": [
    "Clearly as the number of trees increased the average error value decreased "
   ]
  },
  {
   "cell_type": "markdown",
   "metadata": {},
   "source": [
    " ### ----6  Feature Engineering ----"
   ]
  },
  {
   "cell_type": "code",
   "execution_count": 71,
   "metadata": {},
   "outputs": [],
   "source": [
    "#based on the above feature importance chart creating a subset for grouping product_categories\n",
    "category_cluster = merged[['order_item','product_category_name_english','Revenue']]"
   ]
  },
  {
   "cell_type": "code",
   "execution_count": 72,
   "metadata": {},
   "outputs": [],
   "source": [
    "#setting order_item as index \n",
    "category_cluster = category_cluster.set_index('order_item') "
   ]
  },
  {
   "cell_type": "code",
   "execution_count": 73,
   "metadata": {},
   "outputs": [],
   "source": [
    "#converting categories into numeric features \n",
    "category_dummied = pd.get_dummies(category_cluster,drop_first = True)"
   ]
  },
  {
   "cell_type": "code",
   "execution_count": 74,
   "metadata": {},
   "outputs": [
    {
     "name": "stdout",
     "output_type": "stream",
     "text": [
      "Init: initializing centroids\n",
      "Init: initializing clusters\n",
      "Starting iterations...\n",
      "Run 1, iteration: 1/100, moves: 0, cost: 190034.0\n",
      "Init: initializing centroids\n",
      "Init: initializing clusters\n",
      "Starting iterations...\n",
      "Run 1, iteration: 1/100, moves: 4, cost: 183098.0\n",
      "Init: initializing centroids\n",
      "Init: initializing clusters\n",
      "Starting iterations...\n",
      "Run 1, iteration: 1/100, moves: 18, cost: 184642.0\n",
      "Init: initializing centroids\n",
      "Init: initializing clusters\n",
      "Starting iterations...\n",
      "Run 1, iteration: 1/100, moves: 25, cost: 172559.0\n",
      "Init: initializing centroids\n",
      "Init: initializing clusters\n",
      "Starting iterations...\n",
      "Run 1, iteration: 1/100, moves: 154, cost: 184397.0\n",
      "Init: initializing centroids\n",
      "Init: initializing clusters\n",
      "Starting iterations...\n",
      "Run 1, iteration: 1/100, moves: 139, cost: 167195.0\n"
     ]
    }
   ],
   "source": [
    "#using kmode algorithm to create clusters with respect to revenue \n",
    "cost = []\n",
    "for num_clusters in list(range(1,7)):\n",
    "    kmode = kmodes.KModes(n_clusters=num_clusters, init = \"Huang\", n_init = 1, verbose=1)\n",
    "    kmode.fit_predict(category_dummied)\n",
    "    cost.append(kmode.cost_)"
   ]
  },
  {
   "cell_type": "code",
   "execution_count": 75,
   "metadata": {},
   "outputs": [
    {
     "data": {
      "text/plain": [
       "[<matplotlib.lines.Line2D at 0x26fbdd49f98>]"
      ]
     },
     "execution_count": 75,
     "metadata": {},
     "output_type": "execute_result"
    },
    {
     "data": {
      "image/png": "[encoded data removed]",
      "text/plain": [
       "<Figure size 432x288 with 1 Axes>"
      ]
     },
     "metadata": {},
     "output_type": "display_data"
    }
   ],
   "source": [
    "#plotting the cost curve to select k value \n",
    "y = np.array([i for i in range(1,7,1)])\n",
    "plt.plot(y,cost)"
   ]
  },
  {
   "cell_type": "markdown",
   "metadata": {},
   "source": [
    "for k=4 the cost function has reduced "
   ]
  },
  {
   "cell_type": "code",
   "execution_count": 77,
   "metadata": {},
   "outputs": [
    {
     "name": "stdout",
     "output_type": "stream",
     "text": [
      "Init: initializing centroids\n",
      "Init: initializing clusters\n",
      "Starting iterations...\n",
      "Run 1, iteration: 1/100, moves: 0, cost: 188935.0\n"
     ]
    }
   ],
   "source": [
    "#creating the cluster model and adding column to the dataframe \n",
    "km = kmodes.KModes(n_clusters= 4, init='Huang', n_init=1, verbose=1)\n",
    "clusters = km.fit_predict(category_dummied)\n",
    "category_dummied['category_cluster'] = clusters"
   ]
  },
  {
   "cell_type": "code",
   "execution_count": 78,
   "metadata": {},
   "outputs": [],
   "source": [
    "#filtering dataframe \n",
    "category_dummied = category_dummied[['category_cluster']]"
   ]
  },
  {
   "cell_type": "code",
   "execution_count": 79,
   "metadata": {},
   "outputs": [],
   "source": [
    "category_dummied = category_dummied.reset_index()"
   ]
  },
  {
   "cell_type": "code",
   "execution_count": 80,
   "metadata": {},
   "outputs": [],
   "source": [
    "#adding category_cluster to original dataframe\n",
    "\n",
    "merged = merged.merge(category_dummied,on ='order_item',how = 'left')"
   ]
  },
  {
   "cell_type": "code",
   "execution_count": 82,
   "metadata": {},
   "outputs": [
    {
     "data": {
      "text/html": [
       "<div>\n",
       "<style scoped>\n",
       "    .dataframe tbody tr th:only-of-type {\n",
       "        vertical-align: middle;\n",
       "    }\n",
       "\n",
       "    .dataframe tbody tr th {\n",
       "        vertical-align: top;\n",
       "    }\n",
       "\n",
       "    .dataframe thead th {\n",
       "        text-align: right;\n",
       "    }\n",
       "</style>\n",
       "<table border=\"1\" class=\"dataframe\">\n",
       "  <thead>\n",
       "    <tr style=\"text-align: right;\">\n",
       "      <th></th>\n",
       "      <th>index</th>\n",
       "      <th>order_id</th>\n",
       "      <th>order_item_id</th>\n",
       "      <th>product_category_name_english</th>\n",
       "      <th>customer_id</th>\n",
       "      <th>order_purchase_timestamp</th>\n",
       "      <th>customer_unique_id</th>\n",
       "      <th>Revenue</th>\n",
       "      <th>Month</th>\n",
       "      <th>order_item</th>\n",
       "      <th>firstpurchasedate</th>\n",
       "      <th>First_Month</th>\n",
       "      <th>user_type</th>\n",
       "      <th>Recency</th>\n",
       "      <th>category_cluster</th>\n",
       "    </tr>\n",
       "  </thead>\n",
       "  <tbody>\n",
       "    <tr>\n",
       "      <th>0</th>\n",
       "      <td>0</td>\n",
       "      <td>00010242fe8c5a6d1ba2dd792cb16214</td>\n",
       "      <td>1</td>\n",
       "      <td>cool_stuff</td>\n",
       "      <td>3ce436f183e68e07877b285a838db11a</td>\n",
       "      <td>2017-09-13 08:59:02</td>\n",
       "      <td>871766c5855e863f6eccc05f988b23cb</td>\n",
       "      <td>72.19</td>\n",
       "      <td>201709</td>\n",
       "      <td>100010242fe8c5a6d1ba2dd792cb16214</td>\n",
       "      <td>2017-09-13 08:59:02</td>\n",
       "      <td>201709</td>\n",
       "      <td>New</td>\n",
       "      <td>350</td>\n",
       "      <td>0</td>\n",
       "    </tr>\n",
       "    <tr>\n",
       "      <th>1</th>\n",
       "      <td>3</td>\n",
       "      <td>00024acbcdf0a6daa1e931b038114c75</td>\n",
       "      <td>1</td>\n",
       "      <td>perfumery</td>\n",
       "      <td>d4eb9395c8c0431ee92fce09860c5a06</td>\n",
       "      <td>2018-08-08 10:00:35</td>\n",
       "      <td>af861d436cfc08b2c2ddefd0ba074622</td>\n",
       "      <td>25.78</td>\n",
       "      <td>201808</td>\n",
       "      <td>100024acbcdf0a6daa1e931b038114c75</td>\n",
       "      <td>2018-08-08 10:00:35</td>\n",
       "      <td>201808</td>\n",
       "      <td>New</td>\n",
       "      <td>21</td>\n",
       "      <td>0</td>\n",
       "    </tr>\n",
       "    <tr>\n",
       "      <th>2</th>\n",
       "      <td>5</td>\n",
       "      <td>00048cc3ae777c65dbb7d2a0634bc1ea</td>\n",
       "      <td>1</td>\n",
       "      <td>housewares</td>\n",
       "      <td>816cbea969fe5b689b39cfc97a506742</td>\n",
       "      <td>2017-05-15 21:42:34</td>\n",
       "      <td>85c835d128beae5b4ce8602c491bf385</td>\n",
       "      <td>34.59</td>\n",
       "      <td>201705</td>\n",
       "      <td>100048cc3ae777c65dbb7d2a0634bc1ea</td>\n",
       "      <td>2017-05-15 21:42:34</td>\n",
       "      <td>201705</td>\n",
       "      <td>New</td>\n",
       "      <td>470</td>\n",
       "      <td>0</td>\n",
       "    </tr>\n",
       "    <tr>\n",
       "      <th>3</th>\n",
       "      <td>6</td>\n",
       "      <td>00054e8431b9d7675808bcb819fb4a32</td>\n",
       "      <td>1</td>\n",
       "      <td>telephony</td>\n",
       "      <td>32e2e6ab09e778d99bf2e0ecd4898718</td>\n",
       "      <td>2017-12-10 11:53:48</td>\n",
       "      <td>635d9ac1680f03288e72ada3a1035803</td>\n",
       "      <td>31.75</td>\n",
       "      <td>201712</td>\n",
       "      <td>100054e8431b9d7675808bcb819fb4a32</td>\n",
       "      <td>2017-12-10 11:53:48</td>\n",
       "      <td>201712</td>\n",
       "      <td>New</td>\n",
       "      <td>262</td>\n",
       "      <td>0</td>\n",
       "    </tr>\n",
       "    <tr>\n",
       "      <th>4</th>\n",
       "      <td>8</td>\n",
       "      <td>0005a1a1728c9d785b8e2b08b904576c</td>\n",
       "      <td>1</td>\n",
       "      <td>health_beauty</td>\n",
       "      <td>16150771dfd4776261284213b89c304e</td>\n",
       "      <td>2018-03-19 18:40:33</td>\n",
       "      <td>639d23421f5517f69d0c3d6e6564cf0e</td>\n",
       "      <td>157.60</td>\n",
       "      <td>201803</td>\n",
       "      <td>10005a1a1728c9d785b8e2b08b904576c</td>\n",
       "      <td>2018-03-19 18:40:33</td>\n",
       "      <td>201803</td>\n",
       "      <td>New</td>\n",
       "      <td>162</td>\n",
       "      <td>0</td>\n",
       "    </tr>\n",
       "  </tbody>\n",
       "</table>\n",
       "</div>"
      ],
      "text/plain": [
       "   index                          order_id  order_item_id  \\\n",
       "0      0  00010242fe8c5a6d1ba2dd792cb16214              1   \n",
       "1      3  00024acbcdf0a6daa1e931b038114c75              1   \n",
       "2      5  00048cc3ae777c65dbb7d2a0634bc1ea              1   \n",
       "3      6  00054e8431b9d7675808bcb819fb4a32              1   \n",
       "4      8  0005a1a1728c9d785b8e2b08b904576c              1   \n",
       "\n",
       "  product_category_name_english                       customer_id  \\\n",
       "0                    cool_stuff  3ce436f183e68e07877b285a838db11a   \n",
       "1                     perfumery  d4eb9395c8c0431ee92fce09860c5a06   \n",
       "2                    housewares  816cbea969fe5b689b39cfc97a506742   \n",
       "3                     telephony  32e2e6ab09e778d99bf2e0ecd4898718   \n",
       "4                 health_beauty  16150771dfd4776261284213b89c304e   \n",
       "\n",
       "  order_purchase_timestamp                customer_unique_id  Revenue   Month  \\\n",
       "0      2017-09-13 08:59:02  871766c5855e863f6eccc05f988b23cb    72.19  201709   \n",
       "1      2018-08-08 10:00:35  af861d436cfc08b2c2ddefd0ba074622    25.78  201808   \n",
       "2      2017-05-15 21:42:34  85c835d128beae5b4ce8602c491bf385    34.59  201705   \n",
       "3      2017-12-10 11:53:48  635d9ac1680f03288e72ada3a1035803    31.75  201712   \n",
       "4      2018-03-19 18:40:33  639d23421f5517f69d0c3d6e6564cf0e   157.60  201803   \n",
       "\n",
       "                          order_item   firstpurchasedate  First_Month  \\\n",
       "0  100010242fe8c5a6d1ba2dd792cb16214 2017-09-13 08:59:02       201709   \n",
       "1  100024acbcdf0a6daa1e931b038114c75 2018-08-08 10:00:35       201808   \n",
       "2  100048cc3ae777c65dbb7d2a0634bc1ea 2017-05-15 21:42:34       201705   \n",
       "3  100054e8431b9d7675808bcb819fb4a32 2017-12-10 11:53:48       201712   \n",
       "4  10005a1a1728c9d785b8e2b08b904576c 2018-03-19 18:40:33       201803   \n",
       "\n",
       "  user_type  Recency  category_cluster  \n",
       "0       New      350                 0  \n",
       "1       New       21                 0  \n",
       "2       New      470                 0  \n",
       "3       New      262                 0  \n",
       "4       New      162                 0  "
      ]
     },
     "execution_count": 82,
     "metadata": {},
     "output_type": "execute_result"
    }
   ],
   "source": [
    "merged.head()"
   ]
  },
  {
   "cell_type": "code",
   "execution_count": 84,
   "metadata": {},
   "outputs": [],
   "source": [
    "final = merged.drop(['index','order_id','order_item_id','product_category_name_english','customer_id','order_purchase_timestamp','customer_unique_id','firstpurchasedate','Month','First_Month'],axis = 1)"
   ]
  },
  {
   "cell_type": "code",
   "execution_count": 85,
   "metadata": {},
   "outputs": [],
   "source": [
    "final = final.set_index('order_item')"
   ]
  },
  {
   "cell_type": "code",
   "execution_count": 86,
   "metadata": {},
   "outputs": [],
   "source": [
    "final = pd.get_dummies(final,drop_first = True)"
   ]
  },
  {
   "cell_type": "code",
   "execution_count": 87,
   "metadata": {},
   "outputs": [
    {
     "data": {
      "text/html": [
       "<div>\n",
       "<style scoped>\n",
       "    .dataframe tbody tr th:only-of-type {\n",
       "        vertical-align: middle;\n",
       "    }\n",
       "\n",
       "    .dataframe tbody tr th {\n",
       "        vertical-align: top;\n",
       "    }\n",
       "\n",
       "    .dataframe thead th {\n",
       "        text-align: right;\n",
       "    }\n",
       "</style>\n",
       "<table border=\"1\" class=\"dataframe\">\n",
       "  <thead>\n",
       "    <tr style=\"text-align: right;\">\n",
       "      <th></th>\n",
       "      <th>Revenue</th>\n",
       "      <th>Recency</th>\n",
       "      <th>category_cluster</th>\n",
       "      <th>user_type_New</th>\n",
       "    </tr>\n",
       "  </thead>\n",
       "  <tbody>\n",
       "    <tr>\n",
       "      <th>Revenue</th>\n",
       "      <td>1.000000</td>\n",
       "      <td>-0.025777</td>\n",
       "      <td>0.044342</td>\n",
       "      <td>0.012020</td>\n",
       "    </tr>\n",
       "    <tr>\n",
       "      <th>Recency</th>\n",
       "      <td>-0.025777</td>\n",
       "      <td>1.000000</td>\n",
       "      <td>0.025543</td>\n",
       "      <td>0.049280</td>\n",
       "    </tr>\n",
       "    <tr>\n",
       "      <th>category_cluster</th>\n",
       "      <td>0.044342</td>\n",
       "      <td>0.025543</td>\n",
       "      <td>1.000000</td>\n",
       "      <td>0.002556</td>\n",
       "    </tr>\n",
       "    <tr>\n",
       "      <th>user_type_New</th>\n",
       "      <td>0.012020</td>\n",
       "      <td>0.049280</td>\n",
       "      <td>0.002556</td>\n",
       "      <td>1.000000</td>\n",
       "    </tr>\n",
       "  </tbody>\n",
       "</table>\n",
       "</div>"
      ],
      "text/plain": [
       "                   Revenue   Recency  category_cluster  user_type_New\n",
       "Revenue           1.000000 -0.025777          0.044342       0.012020\n",
       "Recency          -0.025777  1.000000          0.025543       0.049280\n",
       "category_cluster  0.044342  0.025543          1.000000       0.002556\n",
       "user_type_New     0.012020  0.049280          0.002556       1.000000"
      ]
     },
     "execution_count": 87,
     "metadata": {},
     "output_type": "execute_result"
    },
    {
     "data": {
      "image/png": "[encoded data removed]",
      "text/plain": [
       "<Figure size 432x288 with 2 Axes>"
      ]
     },
     "metadata": {},
     "output_type": "display_data"
    }
   ],
   "source": [
    "#correlation plot\n",
    "\n",
    "corr = final.corr()\n",
    "sns.heatmap(corr, \n",
    "            xticklabels=corr.columns.values,\n",
    "            yticklabels=corr.columns.values)\n",
    "plt.title('Heatmap of Correlation Matrix')\n",
    "corr"
   ]
  },
  {
   "cell_type": "markdown",
   "metadata": {},
   "source": [
    "Clearly there is no strong correlation amongst features"
   ]
  },
  {
   "cell_type": "markdown",
   "metadata": {},
   "source": [
    "### ----7  Creating model ----"
   ]
  },
  {
   "cell_type": "code",
   "execution_count": 89,
   "metadata": {},
   "outputs": [],
   "source": [
    "#selecting columns \n",
    "merged_features = final.drop(['Revenue'],axis = 1)\n",
    "Revenue = final.Revenue"
   ]
  },
  {
   "cell_type": "code",
   "execution_count": 90,
   "metadata": {},
   "outputs": [],
   "source": [
    "# Split Train/Test Set\n",
    "merged_features_train, merged_features_test, Revenue_train, Revenue_test = train_test_split(merged_features, Revenue, test_size=0.25)"
   ]
  },
  {
   "cell_type": "code",
   "execution_count": 91,
   "metadata": {},
   "outputs": [
    {
     "name": "stdout",
     "output_type": "stream",
     "text": [
      "(71976, 3)\n",
      "(23993, 3)\n",
      "(71976,)\n",
      "(23993,)\n"
     ]
    }
   ],
   "source": [
    "#checking the sizes\n",
    "print(merged_features_train.shape)\n",
    "print(merged_features_test.shape)\n",
    "print(Revenue_train.shape)\n",
    "print(Revenue_test.shape)"
   ]
  },
  {
   "cell_type": "code",
   "execution_count": 92,
   "metadata": {},
   "outputs": [],
   "source": [
    "#selecting model \n",
    "model = xgb.XGBRegressor()"
   ]
  },
  {
   "cell_type": "code",
   "execution_count": 93,
   "metadata": {},
   "outputs": [],
   "source": [
    "# Define Parameters\n",
    "param_grid = {\"max_depth\": [2,3,5],\n",
    "              \"max_features\" : [1.0,0.3,0.1],\n",
    "              \"min_samples_leaf\" : [3,5,9],\n",
    "              \"n_estimators\": [50,100,150],\n",
    "              \"learning_rate\": [0.05,0.1,0.2]}"
   ]
  },
  {
   "cell_type": "code",
   "execution_count": 94,
   "metadata": {},
   "outputs": [
    {
     "name": "stdout",
     "output_type": "stream",
     "text": [
      "Fitting 3 folds for each of 243 candidates, totalling 729 fits\n"
     ]
    },
    {
     "name": "stderr",
     "output_type": "stream",
     "text": [
      "[Parallel(n_jobs=-1)]: Using backend LokyBackend with 4 concurrent workers.\n",
      "[Parallel(n_jobs=-1)]: Done   5 tasks      | elapsed:   12.7s\n",
      "[Parallel(n_jobs=-1)]: Done  10 tasks      | elapsed:   16.2s\n",
      "[Parallel(n_jobs=-1)]: Done  17 tasks      | elapsed:   21.4s\n",
      "[Parallel(n_jobs=-1)]: Done  24 tasks      | elapsed:   26.2s\n",
      "[Parallel(n_jobs=-1)]: Done  33 tasks      | elapsed:   32.5s\n",
      "[Parallel(n_jobs=-1)]: Done  42 tasks      | elapsed:   39.7s\n",
      "[Parallel(n_jobs=-1)]: Done  53 tasks      | elapsed:   48.3s\n",
      "[Parallel(n_jobs=-1)]: Done  64 tasks      | elapsed:   57.6s\n",
      "[Parallel(n_jobs=-1)]: Done  77 tasks      | elapsed:  1.1min\n",
      "[Parallel(n_jobs=-1)]: Done  90 tasks      | elapsed:  1.3min\n",
      "[Parallel(n_jobs=-1)]: Done 105 tasks      | elapsed:  1.5min\n",
      "[Parallel(n_jobs=-1)]: Done 120 tasks      | elapsed:  1.7min\n",
      "[Parallel(n_jobs=-1)]: Done 137 tasks      | elapsed:  2.0min\n",
      "[Parallel(n_jobs=-1)]: Done 154 tasks      | elapsed:  2.3min\n",
      "[Parallel(n_jobs=-1)]: Done 173 tasks      | elapsed:  2.6min\n",
      "[Parallel(n_jobs=-1)]: Done 192 tasks      | elapsed:  3.0min\n",
      "[Parallel(n_jobs=-1)]: Done 213 tasks      | elapsed:  3.4min\n",
      "[Parallel(n_jobs=-1)]: Done 234 tasks      | elapsed:  3.8min\n",
      "[Parallel(n_jobs=-1)]: Done 257 tasks      | elapsed:  4.2min\n",
      "[Parallel(n_jobs=-1)]: Done 280 tasks      | elapsed:  4.6min\n",
      "[Parallel(n_jobs=-1)]: Done 305 tasks      | elapsed:  5.0min\n",
      "[Parallel(n_jobs=-1)]: Done 330 tasks      | elapsed:  5.3min\n",
      "[Parallel(n_jobs=-1)]: Done 357 tasks      | elapsed:  5.8min\n",
      "[Parallel(n_jobs=-1)]: Done 384 tasks      | elapsed:  6.2min\n",
      "[Parallel(n_jobs=-1)]: Done 413 tasks      | elapsed:  6.7min\n",
      "[Parallel(n_jobs=-1)]: Done 442 tasks      | elapsed:  7.3min\n",
      "[Parallel(n_jobs=-1)]: Done 473 tasks      | elapsed:  7.9min\n",
      "[Parallel(n_jobs=-1)]: Done 504 tasks      | elapsed:  8.4min\n",
      "[Parallel(n_jobs=-1)]: Done 537 tasks      | elapsed:  8.9min\n",
      "[Parallel(n_jobs=-1)]: Done 570 tasks      | elapsed:  9.3min\n",
      "[Parallel(n_jobs=-1)]: Done 605 tasks      | elapsed:  9.9min\n",
      "[Parallel(n_jobs=-1)]: Done 640 tasks      | elapsed: 10.5min\n",
      "[Parallel(n_jobs=-1)]: Done 677 tasks      | elapsed: 11.3min\n",
      "[Parallel(n_jobs=-1)]: Done 714 tasks      | elapsed: 12.2min\n",
      "[Parallel(n_jobs=-1)]: Done 729 out of 729 | elapsed: 12.6min finished\n"
     ]
    }
   ],
   "source": [
    "# Perform Grid Search CV\n",
    "grid_search = GridSearchCV(model, param_grid=param_grid, cv = 3, verbose=10, n_jobs=-1 ).fit(merged_features_train, Revenue_train)"
   ]
  },
  {
   "cell_type": "code",
   "execution_count": 95,
   "metadata": {},
   "outputs": [
    {
     "data": {
      "text/plain": [
       "XGBRegressor(base_score=0.5, booster=None, colsample_bylevel=1,\n",
       "       colsample_bynode=1, colsample_bytree=1, gamma=0, gpu_id=-1,\n",
       "       importance_type='gain', interaction_constraints=None,\n",
       "       learning_rate=0.1, max_delta_step=0, max_depth=2, max_features=1.0,\n",
       "       min_child_weight=1, min_samples_leaf=3, missing=nan,\n",
       "       monotone_constraints=None, n_estimators=150, n_jobs=0,\n",
       "       num_parallel_tree=1, objective='reg:squarederror', random_state=0,\n",
       "       reg_alpha=0, reg_lambda=1, scale_pos_weight=1, subsample=1,\n",
       "       tree_method=None, validate_parameters=False, verbosity=None)"
      ]
     },
     "execution_count": 95,
     "metadata": {},
     "output_type": "execute_result"
    }
   ],
   "source": [
    "# Best hyperparmeter setting\n",
    "grid_search.best_estimator_"
   ]
  },
  {
   "cell_type": "code",
   "execution_count": 96,
   "metadata": {},
   "outputs": [],
   "source": [
    "#creating an evaluation set \n",
    "validation_set = [(merged_features_train,Revenue_train), ( merged_features_test, Revenue_test)]"
   ]
  },
  {
   "cell_type": "markdown",
   "metadata": {},
   "source": [
    "### ----8  Best model ----"
   ]
  },
  {
   "cell_type": "code",
   "execution_count": 98,
   "metadata": {},
   "outputs": [],
   "source": [
    "# Use our best model parameters found by GridSearchCV\n",
    "best_model = xgb.XGBRegressor(base_score=0.5, booster=None, colsample_bylevel=1,\n",
    "       colsample_bynode=1, colsample_bytree=1, gamma=0, gpu_id=-1,\n",
    "       importance_type='gain', interaction_constraints=None,\n",
    "       learning_rate=0.1, max_delta_step=0, max_depth=2, max_features=1.0,\n",
    "       min_child_weight=1, min_samples_leaf=3, missing=None,\n",
    "       monotone_constraints=None, n_estimators=150, n_jobs=0,\n",
    "       num_parallel_tree=1, objective='reg:squarederror', random_state=0,\n",
    "       reg_alpha=0, reg_lambda=1, scale_pos_weight=1, subsample=1,\n",
    "       tree_method=None, validate_parameters=False, verbosity=None)"
   ]
  },
  {
   "cell_type": "code",
   "execution_count": 99,
   "metadata": {},
   "outputs": [
    {
     "data": {
      "text/plain": [
       "XGBRegressor(base_score=0.5, booster=None, colsample_bylevel=1,\n",
       "       colsample_bynode=1, colsample_bytree=1, gamma=0, gpu_id=-1,\n",
       "       importance_type='gain', interaction_constraints=None,\n",
       "       learning_rate=0.1, max_delta_step=0, max_depth=2, max_features=1.0,\n",
       "       min_child_weight=1, min_samples_leaf=3, missing=nan,\n",
       "       monotone_constraints=None, n_estimators=150, n_jobs=0,\n",
       "       num_parallel_tree=1, objective='reg:squarederror', random_state=0,\n",
       "       reg_alpha=0, reg_lambda=1, scale_pos_weight=1, subsample=1,\n",
       "       tree_method=None, validate_parameters=False, verbosity=None)"
      ]
     },
     "execution_count": 99,
     "metadata": {},
     "output_type": "execute_result"
    }
   ],
   "source": [
    "# Fit our model to the training set\n",
    "best_model.fit(merged_features_train,Revenue_train, eval_set= validation_set, verbose=False)"
   ]
  },
  {
   "cell_type": "markdown",
   "metadata": {},
   "source": [
    "### ----9  Testing model ----"
   ]
  },
  {
   "cell_type": "code",
   "execution_count": 100,
   "metadata": {},
   "outputs": [],
   "source": [
    "# Make predictions with test data\n",
    "Revenue_pred = best_model.predict(merged_features_test)\n",
    "predictions = [round(value) for value in Revenue_pred]\n"
   ]
  },
  {
   "cell_type": "code",
   "execution_count": 101,
   "metadata": {},
   "outputs": [],
   "source": [
    "Revenue_test = Revenue_test.reset_index()\n",
    "actual = Revenue_test['Revenue']"
   ]
  },
  {
   "cell_type": "code",
   "execution_count": 102,
   "metadata": {},
   "outputs": [],
   "source": [
    "# Retrieve performance metrics\n",
    "results = best_model.evals_result()\n",
    "epochs = len(results['validation_0']['rmse'])\n",
    "x_axis = range(0, epochs)\n"
   ]
  },
  {
   "cell_type": "code",
   "execution_count": 103,
   "metadata": {},
   "outputs": [
    {
     "data": {
      "text/plain": [
       "Text(0.5, 1.0, 'XGBoost RMSE')"
      ]
     },
     "execution_count": 103,
     "metadata": {},
     "output_type": "execute_result"
    },
    {
     "data": {
      "image/png": "[encoded data removed]",
      "text/plain": [
       "<Figure size 432x288 with 1 Axes>"
      ]
     },
     "metadata": {},
     "output_type": "display_data"
    }
   ],
   "source": [
    "# Plot log loss curve\n",
    "fig, ax = plt.subplots()\n",
    "ax.plot(x_axis, results['validation_0']['rmse'], label='Train')\n",
    "ax.plot(x_axis, results['validation_1']['rmse'], label='Test')\n",
    "ax.legend()\n",
    "plt.ylabel('RMSE')\n",
    "plt.title('XGBoost RMSE')"
   ]
  },
  {
   "cell_type": "markdown",
   "metadata": {},
   "source": [
    "the logloss curve doesn't show overfitting"
   ]
  },
  {
   "cell_type": "code",
   "execution_count": 108,
   "metadata": {},
   "outputs": [
    {
     "name": "stdout",
     "output_type": "stream",
     "text": [
      "mse: 2272.433293252199\n",
      "Actual_Revenue: 2154026.66\n",
      "Predicted_Revenue: 2157547.0\n"
     ]
    }
   ],
   "source": [
    "#mean sqaured error and Revenue totals \n",
    "mse = metrics.mean_squared_error(actual, predictions)\n",
    "print('mse:',mse)\n",
    "print('Actual_Revenue:',actual.sum())\n",
    "print('Predicted_Revenue:',sum(predictions))"
   ]
  },
  {
   "cell_type": "markdown",
   "metadata": {},
   "source": [
    "### ----10  Summary ----"
   ]
  },
  {
   "cell_type": "markdown",
   "metadata": {},
   "source": [
    "We can apply this model to future ecommerce metrics and obtain revenue at the transaction level and convert it into customer lifetimevalue. \n",
    "\n",
    "As the number of existing customers were less, I haven't included any frequency feature to cluster audience segments."
   ]
  },
  {
   "cell_type": "markdown",
   "metadata": {},
   "source": [
    "Improvement:\n",
    "\n",
    "This model can be improved by adding new features. \n",
    "\n",
    "The geographical locations of customers and sellers can determine why customers in few areas are purchasing more compared to the others. \n",
    "\n"
   ]
  }
 ],
 "metadata": {
  "kernelspec": {
   "display_name": "Python 3",
   "language": "python",
   "name": "python3"
  },
  "language_info": {
   "codemirror_mode": {
    "name": "ipython",
    "version": 3
   },
   "file_extension": ".py",
   "mimetype": "text/x-python",
   "name": "python",
   "nbconvert_exporter": "python",
   "pygments_lexer": "ipython3",
   "version": "3.7.3"
  }
 },
 "nbformat": 4,
 "nbformat_minor": 2
}
